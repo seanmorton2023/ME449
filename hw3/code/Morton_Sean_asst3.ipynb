{
 "cells": [
  {
   "cell_type": "markdown",
   "id": "981cdf36",
   "metadata": {},
   "source": [
    "## Homework 3\n",
    "\n",
    "### Sean Morton, ME449"
   ]
  },
  {
   "cell_type": "markdown",
   "id": "c1233c6a",
   "metadata": {},
   "source": [
    "# Introduction"
   ]
  },
  {
   "cell_type": "markdown",
   "id": "3627a5b6",
   "metadata": {},
   "source": [
    "My submission is broken down into helper functions, part 1, part 2, and part 3. Each part of the submission has a cell block where a simulation runs, a block with outputs that describe the simulation and the resulting trajectory, and a written description.\n",
    "\n",
    "Simulations in my code took a long time to run - each simulation took about 2 minutes in the real world. This might be improved by running the code as a .py file and not in .ipynb (as someone suggested to me), but I'm not sure. If you have any suggestions for code optimization, please let me know."
   ]
  },
  {
   "cell_type": "markdown",
   "id": "0e6ff245",
   "metadata": {},
   "source": [
    "## Helper functions"
   ]
  },
  {
   "cell_type": "code",
   "execution_count": 1,
   "id": "2195a508",
   "metadata": {},
   "outputs": [],
   "source": [
    "#imports\n",
    "import numpy as np\n",
    "import core as mr\n",
    "import matplotlib.pyplot as plt\n",
    "import time\n",
    "\n",
    "from IPython.display import Markdown, display"
   ]
  },
  {
   "cell_type": "code",
   "execution_count": 2,
   "id": "3469268c",
   "metadata": {},
   "outputs": [],
   "source": [
    "#parameters of the UR5 robot\n",
    "\n",
    "M01 = [[1, 0, 0, 0], \n",
    "       [0, 1, 0, 0], \n",
    "       [0, 0, 1, 0.089159], \n",
    "       [0, 0, 0, 1]]\n",
    "\n",
    "M12 = [[0, 0, 1, 0.28], \n",
    "       [0, 1, 0, 0.13585], \n",
    "       [-1, 0, 0, 0], \n",
    "       [0, 0, 0, 1]]\n",
    "\n",
    "M23 = [[1, 0, 0, 0], \n",
    "       [0, 1, 0, -0.1197], \n",
    "       [0, 0, 1, 0.395], \n",
    "       [0, 0, 0, 1]]\n",
    "\n",
    "M34 = [[0, 0, 1, 0], \n",
    "       [0, 1, 0, 0], \n",
    "       [-1, 0, 0, 0.14225], \n",
    "       [0, 0, 0, 1]]\n",
    "\n",
    "M45 = [[1, 0, 0, 0], \n",
    "       [0, 1, 0, 0.093], \n",
    "       [0, 0, 1, 0], \n",
    "       [0, 0, 0, 1]]\n",
    "\n",
    "M56 = [[1, 0, 0, 0], \n",
    "       [0, 1, 0, 0], \n",
    "       [0, 0, 1, 0.09465], \n",
    "       [0, 0, 0, 1]]\n",
    "\n",
    "M67 = [[1, 0, 0, 0], \n",
    "       [0, 0, 1, 0.0823], \n",
    "       [0, -1, 0, 0], \n",
    "       [0, 0, 0, 1]]\n",
    "\n",
    "G1 = np.diag([0.010267495893, 0.010267495893,  0.00666, 3.7, 3.7, 3.7])\n",
    "G2 = np.diag([0.22689067591, 0.22689067591, 0.0151074, 8.393, 8.393, 8.393])\n",
    "G3 = np.diag([0.049443313556, 0.049443313556, 0.004095, 2.275, 2.275, 2.275])\n",
    "G4 = np.diag([0.111172755531, 0.111172755531, 0.21942, 1.219, 1.219, 1.219])\n",
    "G5 = np.diag([0.111172755531, 0.111172755531, 0.21942, 1.219, 1.219, 1.219])\n",
    "G6 = np.diag([0.0171364731454, 0.0171364731454, 0.033822, 0.1879, 0.1879, 0.1879])"
   ]
  },
  {
   "cell_type": "code",
   "execution_count": 3,
   "id": "4a0d0715",
   "metadata": {},
   "outputs": [],
   "source": [
    "Glist = [G1, G2, G3, G4, G5, G6]\n",
    "Mlist = [M01, M12, M23, M34, M45, M56, M67] \n",
    "\n",
    "Slist = [[0,         0,         0,         0,        0,        0],\n",
    "         [0,         1,         1,         1,        0,        1],\n",
    "         [1,         0,         0,         0,       -1,        0],\n",
    "         [0, -0.089159, -0.089159, -0.089159, -0.10915, 0.005491],\n",
    "         [0,         0,         0,         0,  0.81725,        0],\n",
    "         [0,         0,     0.425,   0.81725,        0,  0.81725]]"
   ]
  },
  {
   "cell_type": "code",
   "execution_count": 4,
   "id": "22808d55",
   "metadata": {},
   "outputs": [],
   "source": [
    "#helper functions\n",
    "def write_csv_line(csv_filename, data):\n",
    "    with open(csv_filename, 'a') as f:\n",
    "        data_str = ','.join([str(i) for i in data]) + '\\n'\n",
    "        f.write(data_str)\n",
    "###\n",
    "\n",
    "def write_csv_mat(csv_filename, mat):\n",
    "    f = open(csv_filename, 'w') #clear out old data\n",
    "    f.close()\n",
    "    for row in mat:\n",
    "            write_csv_line(csv_filename, row)\n",
    "###\n",
    "    \n",
    "def ModEulerStep(thetalist, dthetalist, ddthetalist, dt):\n",
    "    \"\"\"EulerStep from the MR library, but with an additional\n",
    "    second-order term from acceleration contributing to changes in position.\n",
    "    \"\"\"\n",
    "    return thetalist + (dt * np.array(dthetalist) + 0.5 * dt**2 * np.array(dthetalist) ), \\\n",
    "           dthetalist + dt * np.array(ddthetalist)\n",
    "###\n",
    "\n",
    "def filter_nan(array):\n",
    "    \"\"\"Unstable arrays may have NAN terms in them, which cannot be interpreted\n",
    "    in CoppeliaSim. This function truncates an array to include only\n",
    "    the portion of the array before the first NAN is detected.\n",
    "    \"\"\"\n",
    "    firstnan = None\n",
    "    for i in range(len(array)):\n",
    "        row = array[i,:]\n",
    "        nanmask = np.isnan(row)\n",
    "        if np.any(nanmask): #if NAN is in row; \"True\" in nanmask\n",
    "            firstnan = i\n",
    "            break\n",
    "\n",
    "    if firstnan:\n",
    "        array = array[:firstnan]\n",
    "    return array"
   ]
  },
  {
   "cell_type": "code",
   "execution_count": 5,
   "id": "d8c52418",
   "metadata": {},
   "outputs": [],
   "source": [
    "#component functions for spring force, damping force, and simulation\n",
    "\n",
    "def SpringForce(Slist, thetalist, Mlist, stiffness, springPos, restLength):\n",
    "    '''\n",
    "    - Calculates the \"spring force\" acting on the end effector\n",
    "        of the robot, using position of end of spring, position\n",
    "        of end effector, and spring parameters.\n",
    "    - takes in:\n",
    "        -Slist: list of screw axes in space frame \n",
    "        -thetalist: list of current joint angles \n",
    "        -Mlist: home configurations of each joint rel. to.\n",
    "            each other\n",
    "        -stiffness: scalar with spring constant\n",
    "        -springPos: 3-vector position \n",
    "        -restLength: scalar with resting length of spring\n",
    "    - calls:\n",
    "        - T = FKinBody(M_endeff, Blist, thetalist)\n",
    "        - [R,p] = TranstoRp(FKinBody)\n",
    "        - x_diff = np.linalg.norm(deltap) - restLength\n",
    "    - returns:\n",
    "        Ftip, a 6x1 end-effector wrench caused by the spring force\n",
    "    '''\n",
    "\n",
    "    # - Find home configuration of end effector\n",
    "    M_matrices = [np.matrix(M) for M in Mlist]\n",
    "    M_ee = M_matrices[0] * \\\n",
    "            M_matrices[1] * \\\n",
    "            M_matrices[2] * \\\n",
    "            M_matrices[3] * \\\n",
    "            M_matrices[4] * \\\n",
    "            M_matrices[5] * \\\n",
    "            M_matrices[6]\n",
    "    \n",
    "    #     - apply product of exponentials in space frame\n",
    "    Tsb = mr.FKinSpace(M_ee, Slist, thetalist)\n",
    "    springPos_4_s = np.append(np.array(springPos), [1]) #add an extra 1 so we can multiply by transf. matrix\n",
    "    springPos_4_s = np.matrix(springPos_4_s).T\n",
    "    \n",
    "    pb = mr.TransInv(Tsb) * springPos_4_s\n",
    "    pb = np.array(pb[0:3].tolist())\n",
    "    \n",
    "    #springposn minus posn of end effector, in b,  will just be springposn - [0 0 0]\n",
    "    dp = pb[:]\n",
    "    \n",
    "    #direction of force given by unit vector of springposn\n",
    "    unit_dir = -dp / np.linalg.norm(dp)\n",
    "    \n",
    "    #magnitude of force given by (stiffness) * (norm(springPosn_b) - restlength)\n",
    "    mag_force = stiffness * (np.linalg.norm(pb) - restLength)\n",
    "    sf = (mag_force * unit_dir).T[0].tolist()\n",
    "    Fb = np.array([0, 0, 0, sf[0], sf[1], sf[2]])\n",
    "    \n",
    "    return Fb.tolist()\n",
    "\n",
    "def DampingForce(B, thetad_list):\n",
    "    '''\n",
    "    - Make a torque at each joint, equal to -B * w\n",
    "    - takes in:\n",
    "        - damping constant B\n",
    "        - thetad_list: an nd-array, where n = # of joints of robot\n",
    "    - returns:\n",
    "        - an nd-array of joint torques, where n = # of joints\n",
    "    '''\n",
    "    tau_list = -B * np.array(thetad_list)\n",
    "    return tau_list.tolist()"
   ]
  },
  {
   "cell_type": "code",
   "execution_count": 6,
   "id": "cbd4386c",
   "metadata": {},
   "outputs": [
    {
     "name": "stdout",
     "output_type": "stream",
     "text": [
      "all assertions passed\n"
     ]
    }
   ],
   "source": [
    "#testing: plug in joint angles that give known positions; check that \n",
    "#position difference is close to expected values; force is a constant times that\n",
    "M_matrices = [np.matrix(M) for M in Mlist]\n",
    "M_ee = M_matrices[0] * \\\n",
    "        M_matrices[1] * \\\n",
    "        M_matrices[2] * \\\n",
    "        M_matrices[3] * \\\n",
    "        M_matrices[4] * \\\n",
    "        M_matrices[5] * \\\n",
    "        M_matrices[6]\n",
    "\n",
    "robot_posn = [0.1, 0.3, 0.6]\n",
    "R = np.identity(3)\n",
    "T = mr.RpToTrans(R, robot_posn)\n",
    "thetalist0 = [0.504, -0.168, -1.713, 4.131, 0.000, 0.000]\n",
    "thetalist, success = mr.IKinSpace(Slist, M_ee, T, thetalist0, 0.001, 0.0001)\n",
    "thetalist = thetalist.round(4).tolist()\n",
    "\n",
    "# print(M_ee) #looks as expected in CoppeliaSim\n",
    "# print(thetalist) #[0.8966, -0.0886, -1.5636, 3.2229, -1.5708, 0.6742]\n",
    "# print(success)\n",
    "\n",
    "#-------------------------------------#\n",
    "\n",
    "spring_posn = [0.2, 0.4, 0.7]\n",
    "stiffness = 1\n",
    "\n",
    "#check that spring force matches expected value - zero restLength\n",
    "restLength = 0\n",
    "expected_wrench = [0, 0, 0, -0.1, -0.1, -0.1]\n",
    "wrench = SpringForce(Slist, thetalist, Mlist, stiffness, spring_posn, restLength)\n",
    "assert np.allclose(expected_wrench, wrench, rtol = 1E-4, atol = 1E-4) \n",
    "\n",
    "#with nonzero restLength\n",
    "restLength = np.sqrt(3)/10\n",
    "wrench = SpringForce(Slist, thetalist, Mlist, stiffness, spring_posn, restLength)\n",
    "expected_wrench = np.array([0, 0, 0, 0, 0, 0])\n",
    "assert np.allclose(expected_wrench, wrench, rtol = 1E-4, atol = 1E-4) #---> this used the space frame\n",
    "\n",
    "#--------------------------------------#\n",
    "\n",
    "\n",
    "#test damping function\n",
    "thetalist = [0.1, 0.2, 0.3, 0.4, 0.5, 0.6]\n",
    "damping = 0.2\n",
    "assert np.allclose(DampingForce(damping, thetalist), [-0.02, -0.04, -0.06, -0.08, -0.10, -0.12])\n",
    "\n",
    "print(\"all assertions passed\")"
   ]
  },
  {
   "cell_type": "code",
   "execution_count": 7,
   "id": "c9219f58",
   "metadata": {},
   "outputs": [],
   "source": [
    "def Puppet(damping, stiffness, restLength, springPos,\\\n",
    "          tf, dt, \\\n",
    "          g, Mlist, Glist, Slist, \\\n",
    "          thetalist0, thetadlist0): \n",
    "    '''\n",
    "    - takes in\n",
    "        - time parameters tf, dt\n",
    "        - damping, stiffness, restLength\n",
    "        - g, Mlist, Glist, Slist (g may be [0,0,0])\n",
    "        - thetalist0, dthetalist0\n",
    "    - calculates\n",
    "        - end effector wrench Ftip\n",
    "        - applied joint torques taulist\n",
    "    - calls \n",
    "        - mr.ForwardDynamics(thetalist,dthetalist,taulist,\n",
    "            g,Ftip,Mlist,Glist,Slist)\n",
    "        - ModEulerStep(thetalist,dthetalist,ddthetalist,dt)\n",
    "        - SpringForce()\n",
    "        - DampingForce()\n",
    "    - returns: a N x n matrix of joint values, N = # of timesteps,\n",
    "        n = number of joints\n",
    "    '''\n",
    "    \n",
    "    thetalist = np.array(thetalist0)\n",
    "    thetadlist = np.array(thetadlist0)  \n",
    "    t_array = np.arange(0, tf, dt)\n",
    "    traj_array = np.zeros([len(t_array), len(thetalist)]) #N timesteps, n angles    \n",
    "            \n",
    "    for i, t in enumerate(t_array):\n",
    "                \n",
    "        #calculate forces; call ForwardDynamics() with starting values of t, td, tdd lists\n",
    "        taulist = DampingForce(damping, thetadlist) \n",
    "        Fb_tip = SpringForce(Slist, thetalist, Mlist, stiffness, springPos, restLength)\n",
    "\n",
    "        thetaddlist = mr.ForwardDynamics(thetalist, thetadlist, taulist, \\\n",
    "                                            g, Fb_tip, Mlist, Glist, Slist)\n",
    "        \n",
    "        # - use numerical integration to find theta, thetad at next timestep\n",
    "        thetalist_new, thetadlist_new = ModEulerStep(thetalist, thetadlist, thetaddlist, dt)\n",
    "        \n",
    "        # - store value of theta at next timestep in an array; reset theta and thetad       \n",
    "        traj_array[i,:] = thetalist_new\n",
    "        thetalist = thetalist_new\n",
    "        thetadlist = thetadlist_new\n",
    "        \n",
    "    #may want to change names of inputs to exactly match the asst later\n",
    "    return traj_array\n",
    "\n",
    "#####\n"
   ]
  },
  {
   "cell_type": "markdown",
   "id": "166778af",
   "metadata": {},
   "source": [
    "# Part 1"
   ]
  },
  {
   "cell_type": "markdown",
   "id": "703460a6",
   "metadata": {},
   "source": [
    "### Code:"
   ]
  },
  {
   "cell_type": "code",
   "execution_count": 29,
   "id": "be57330c",
   "metadata": {},
   "outputs": [],
   "source": [
    "#testing\n",
    "damping_p1 = 0\n",
    "stiffness_p1 = 0\n",
    "restLength_p1 = 0\n",
    "tf_p1 = 5\n",
    "dt_p1_fine = 0.005\n",
    "\n",
    "g_p1 = 9.81 * np.array([0, 0, -1])\n",
    "thetalist0 = [0,0,0,0,0,0]\n",
    "dthetalist0 =[0,0,0,0,0,0]\n",
    "springPosn = [0, 0, 2]  \n",
    "\n",
    "realtime0 = time.time()\n",
    "traj_p1_fine = Puppet(\\\n",
    "      damping_p1, stiffness_p1, restLength_p1, springPosn, \\\n",
    "      tf_p1, dt_p1_fine, g_p1, \\\n",
    "      Mlist, Glist, Slist, thetalist0, dthetalist0)\n",
    "realtimef = time.time()"
   ]
  },
  {
   "cell_type": "code",
   "execution_count": 42,
   "id": "38b2698a",
   "metadata": {},
   "outputs": [
    {
     "data": {
      "text/markdown": [
       "**Part 1a: Gravity, no spring/damping, small dt**"
      ],
      "text/plain": [
       "<IPython.core.display.Markdown object>"
      ]
     },
     "metadata": {},
     "output_type": "display_data"
    },
    {
     "name": "stdout",
     "output_type": "stream",
     "text": [
      "Shape of Traj array: (1000, 6)\n",
      "Elapsed: 86.3 real-world seconds\n",
      "\n",
      "dt: 0.005\n",
      "tf: 5\n"
     ]
    }
   ],
   "source": [
    "#process and save\n",
    "display(Markdown(\"**Part 1a: Gravity, no spring/damping, small dt**\"))\n",
    "print(f\"Shape of Traj array: {traj_p1_fine.shape}\")\n",
    "print(f\"Elapsed: {round(realtimef - realtime0,1)} real-world seconds\\n\")\n",
    "print(f\"dt: {dt_p1_fine}\")\n",
    "print(f\"tf: {tf_p1}\")\n",
    "write_csv_mat(\"../csv/HW3_p1a_grav_fine.csv\",traj_p1_fine)"
   ]
  },
  {
   "cell_type": "code",
   "execution_count": 10,
   "id": "3023922a",
   "metadata": {},
   "outputs": [],
   "source": [
    "#show a timestep that makes system unstable\n",
    "dt_p1_coarse = 0.015\n",
    "realtime0 = time.time()\n",
    "traj_p1_coarse = Puppet( \\\n",
    "    damping_p1, stiffness_p1, restLength_p1, springPosn, \\\n",
    "    tf_p1, dt_p1_coarse, g_p1, \\\n",
    "    Mlist, Glist, Slist, thetalist0, dthetalist0)\n",
    "realtimef = time.time()"
   ]
  },
  {
   "cell_type": "code",
   "execution_count": 11,
   "id": "92906fc4",
   "metadata": {},
   "outputs": [],
   "source": [
    "#filter out NAN results\n",
    "traj_p1_coarse = filter_nan(traj_p1_coarse)"
   ]
  },
  {
   "cell_type": "code",
   "execution_count": 43,
   "id": "c1b1d12a",
   "metadata": {},
   "outputs": [
    {
     "data": {
      "text/markdown": [
       "**Part 1b: Gravity, no spring/damping, large dt**"
      ],
      "text/plain": [
       "<IPython.core.display.Markdown object>"
      ]
     },
     "metadata": {},
     "output_type": "display_data"
    },
    {
     "name": "stdout",
     "output_type": "stream",
     "text": [
      "Shape of Traj array: (334, 6)\n",
      "Elapsed: 86.3 real-world seconds\n",
      "\n",
      "dt: 0.015\n",
      "tf: 5\n"
     ]
    }
   ],
   "source": [
    "#process and save\n",
    "display(Markdown(\"**Part 1b: Gravity, no spring/damping, large dt**\"))\n",
    "print(f\"Shape of Traj array: {traj_p1_coarse.shape}\")\n",
    "print(f\"Elapsed: {round(realtimef - realtime0,1)} real-world seconds\\n\")\n",
    "print(f\"dt: {dt_p1_coarse}\")\n",
    "print(f\"tf: {tf_p1}\")\n",
    "write_csv_mat(\"../csv/HW3_p1b_grav_coarse.csv\",traj_p1_coarse)"
   ]
  },
  {
   "cell_type": "markdown",
   "id": "9ab62c82",
   "metadata": {},
   "source": [
    "### Written:\n",
    "\n",
    "The videos show the robot falls in gravity with a slow increase in energy of the system over time. For large timesteps dt, this growth in energy is substantial."
   ]
  },
  {
   "cell_type": "markdown",
   "id": "a910ac8d",
   "metadata": {},
   "source": [
    "# Part 2"
   ]
  },
  {
   "cell_type": "markdown",
   "id": "df6ec151",
   "metadata": {},
   "source": [
    "### Code:"
   ]
  },
  {
   "cell_type": "code",
   "execution_count": 13,
   "id": "3f24fc7d",
   "metadata": {},
   "outputs": [],
   "source": [
    "#uses otherwise the same inputs as problem 1\n",
    "damping_p2_pos = 3\n",
    "\n",
    "realtime0 = time.time()\n",
    "traj_p2_damped_pos = Puppet( \\\n",
    "    damping_p2_pos, stiffness_p1, restLength_p1, springPosn, \\\n",
    "    tf_p1, dt_p1_fine, g_p1, \\\n",
    "    Mlist, Glist, Slist, thetalist0, dthetalist0)\n",
    "realtimef = time.time()"
   ]
  },
  {
   "cell_type": "code",
   "execution_count": 44,
   "id": "61ab40fd",
   "metadata": {},
   "outputs": [
    {
     "data": {
      "text/markdown": [
       "**Part 2a:  Gravity and damping; positive damping**"
      ],
      "text/plain": [
       "<IPython.core.display.Markdown object>"
      ]
     },
     "metadata": {},
     "output_type": "display_data"
    },
    {
     "name": "stdout",
     "output_type": "stream",
     "text": [
      "Shape of Traj array: (1000, 6)\n",
      "Elapsed: 86.3 real-world seconds\n",
      "\n",
      "Damping coefficient used: 3\n",
      "Stiffness coefficient used: 0\n",
      "dt: 0.005\n",
      "tf: 5\n"
     ]
    }
   ],
   "source": [
    "display(Markdown(\"**Part 2a:  Gravity and damping; positive damping**\"))\n",
    "print(f\"Shape of Traj array: {traj_p2_damped_pos.shape}\")\n",
    "print(f\"Elapsed: {round(realtimef - realtime0,1)} real-world seconds\\n\")\n",
    "write_csv_mat(\"../csv/HW3_p2a_damped_pos.csv\",traj_p2_damped_pos)\n",
    "\n",
    "print(f\"Damping coefficient used: {damping_p2_pos}\")\n",
    "print(f\"Stiffness coefficient used: {stiffness_p1}\")\n",
    "print(f\"dt: {dt_p1_fine}\")\n",
    "print(f\"tf: {tf_p1}\")\n"
   ]
  },
  {
   "cell_type": "code",
   "execution_count": 15,
   "id": "065c337c",
   "metadata": {},
   "outputs": [
    {
     "name": "stderr",
     "output_type": "stream",
     "text": [
      "C:\\Users\\seanp\\Downloads\\22F_MECH_ENG_449\\hw3\\code\\core.py:927: RuntimeWarning: overflow encountered in multiply\n",
      "  + np.dot(ad(Vi[:, i + 1]), Ai[:, i]) * dthetalist[i]\n",
      "C:\\Users\\seanp\\Downloads\\22F_MECH_ENG_449\\hw3\\code\\core.py:143: RuntimeWarning: invalid value encountered in sin\n",
      "  return np.eye(3) + np.sin(theta) * omgmat \\\n",
      "C:\\Users\\seanp\\Downloads\\22F_MECH_ENG_449\\hw3\\code\\core.py:144: RuntimeWarning: invalid value encountered in cos\n",
      "  + (1 - np.cos(theta)) * np.dot(omgmat, omgmat)\n",
      "C:\\Users\\seanp\\Downloads\\22F_MECH_ENG_449\\hw3\\code\\core.py:366: RuntimeWarning: invalid value encountered in multiply\n",
      "  np.dot(np.eye(3) * theta \\\n",
      "C:\\Users\\seanp\\Downloads\\22F_MECH_ENG_449\\hw3\\code\\core.py:367: RuntimeWarning: invalid value encountered in cos\n",
      "  + (1 - np.cos(theta)) * omgmat \\\n",
      "C:\\Users\\seanp\\Downloads\\22F_MECH_ENG_449\\hw3\\code\\core.py:368: RuntimeWarning: invalid value encountered in sin\n",
      "  + (theta - np.sin(theta)) \\\n"
     ]
    }
   ],
   "source": [
    "damping_p2_neg = -0.1\n",
    "\n",
    "realtime0 = time.time()\n",
    "traj_p2_damped_neg = Puppet( \\\n",
    "    damping_p2_neg, stiffness_p1, restLength_p1, springPosn, \\\n",
    "    tf_p1, dt_p1_fine, g_p1, \\\n",
    "    Mlist, Glist, Slist, thetalist0, dthetalist0)\n",
    "realtimef = time.time()"
   ]
  },
  {
   "cell_type": "code",
   "execution_count": 16,
   "id": "e48b81fd",
   "metadata": {},
   "outputs": [],
   "source": [
    "#filter out NAN results\n",
    "traj_p2_damped_neg = filter_nan(traj_p2_damped_neg)"
   ]
  },
  {
   "cell_type": "code",
   "execution_count": 45,
   "id": "c4110390",
   "metadata": {},
   "outputs": [
    {
     "data": {
      "text/markdown": [
       "**Part 2b:  Gravity and damping; negative damping**"
      ],
      "text/plain": [
       "<IPython.core.display.Markdown object>"
      ]
     },
     "metadata": {},
     "output_type": "display_data"
    },
    {
     "name": "stdout",
     "output_type": "stream",
     "text": [
      "Shape of Traj array: (347, 6)\n",
      "Elapsed: 86.3 real-world seconds\n",
      "\n",
      "Damping coefficient used: -0.1\n",
      "Stiffness coefficient used: 0\n",
      "dt: 0.005\n",
      "tf: 5\n"
     ]
    }
   ],
   "source": [
    "display(Markdown(\"**Part 2b:  Gravity and damping; negative damping**\"))\n",
    "print(f\"Shape of Traj array: {traj_p2_damped_neg.shape}\")\n",
    "print(f\"Elapsed: {round(realtimef - realtime0,1)} real-world seconds\\n\")\n",
    "write_csv_mat(\"../csv/HW3_p2b_damped_neg.csv\",traj_p2_damped_neg)\n",
    "\n",
    "print(f\"Damping coefficient used: {damping_p2_neg}\")\n",
    "print(f\"Stiffness coefficient used: {stiffness_p1}\")\n",
    "print(f\"dt: {dt_p1_fine}\")\n",
    "print(f\"tf: {tf_p1}\")\n"
   ]
  },
  {
   "cell_type": "code",
   "execution_count": 39,
   "id": "fec9c8cc",
   "metadata": {},
   "outputs": [],
   "source": [
    "damping_p2_large = 8\n",
    "\n",
    "realtime0 = time.time()\n",
    "traj_p2_damped_large = Puppet( \\\n",
    "    damping_p2_large, stiffness_p1, restLength_p1, springPosn, \\\n",
    "    tf_p1, dt_p1_fine, g_p1, \\\n",
    "    Mlist, Glist, Slist, thetalist0, dthetalist0)\n",
    "realtimef = time.time()"
   ]
  },
  {
   "cell_type": "code",
   "execution_count": 40,
   "id": "7ea08f9c",
   "metadata": {},
   "outputs": [],
   "source": [
    "#filter out NAN results\n",
    "traj_p2_damped_large = filter_nan(traj_p2_damped_large)"
   ]
  },
  {
   "cell_type": "code",
   "execution_count": 46,
   "id": "48f096b4",
   "metadata": {},
   "outputs": [
    {
     "data": {
      "text/markdown": [
       "**Part 2c:  Gravity and damping; large positive damping**"
      ],
      "text/plain": [
       "<IPython.core.display.Markdown object>"
      ]
     },
     "metadata": {},
     "output_type": "display_data"
    },
    {
     "name": "stdout",
     "output_type": "stream",
     "text": [
      "Shape of Traj array: (50, 6)\n",
      "Elapsed: 86.3 real-world seconds\n",
      "\n",
      "Damping coefficient used: 8\n",
      "Stiffness coefficient used: 0\n",
      "dt: 0.005\n",
      "tf: 5\n"
     ]
    }
   ],
   "source": [
    "display(Markdown(\"**Part 2c:  Gravity and damping; large positive damping**\"))\n",
    "print(f\"Shape of Traj array: {traj_p2_damped_large.shape}\")\n",
    "print(f\"Elapsed: {round(realtimef - realtime0,1)} real-world seconds\\n\")\n",
    "write_csv_mat(\"../csv/HW3_p2c_damped_large.csv\",traj_p2_damped_large)\n",
    "\n",
    "print(f\"Damping coefficient used: {damping_p2_large}\")\n",
    "print(f\"Stiffness coefficient used: {stiffness_p1}\")\n",
    "print(f\"dt: {dt_p1_fine}\")\n",
    "print(f\"tf: {tf_p1}\")"
   ]
  },
  {
   "cell_type": "markdown",
   "id": "6e1c0c78",
   "metadata": {},
   "source": [
    "### Written:\n",
    "\n",
    "**Do you see any strange behavior in the simulation if you choose the damping constant to\n",
    "be a large positive value? Can you explain it?**\n",
    "\n",
    "When the damping constant is chosen to be a large positive value, the motion of the robot blows up, growing exponentially to incredibly fast speeds. The most likely cause for this behavior is that the joint torques calculated by the damping function are inversely proportional to the current joint velocities of the robot. When damping coefficient B is large, the acceleration caused by damping can cause the magnitude of velocity to increase from one timestep to the next, but the direction of velocity to flip. This repeated amplification of velocity can cause the motion of the robot to blow up to infinite velocity.\n",
    "\n",
    "\n",
    "**How would this behavior be affected if you chose shorter simulation timesteps?**\n",
    "\n",
    "If our simulation timestep dt were smaller but all other factors stayed the same, the motion of the robot might not blow up to infinite speeds as quickly, or at all. For any given values of dthetalist, the damping force -B * dthetalist is the same, independent of t. However, when dt is smaller, the update to dthetalist at the next timestep is small. \n",
    "\n",
    "For example, for a system with linear velocity only, if thetad = 2, damping_accel = -8 and dt = 1, then thetad at next timestep = thetad + dt * damping_accel = -6; repeated iterations of this cause the velocity to blow up.\n",
    "\n",
    "If only dt is changed, and thetad = 2, damping_accel = -8 and dt = 0.1, thetad at next timestep is thetad + dt * damping_accel = 1.2. The velocity has shrunk, so the velocity of the system should not blow up to infinity. \n",
    "\n",
    "I'm leaving out consideration of inertia and other aspects that make rotational systems different, but I would think the same would be true of rotational systems with inertia: smaller dt = less likely to diverge."
   ]
  },
  {
   "cell_type": "markdown",
   "id": "f10cae8d",
   "metadata": {},
   "source": [
    "# Part 3"
   ]
  },
  {
   "cell_type": "markdown",
   "id": "7bf774e8",
   "metadata": {},
   "source": [
    "### Code:"
   ]
  },
  {
   "cell_type": "code",
   "execution_count": 20,
   "id": "abfad289",
   "metadata": {},
   "outputs": [],
   "source": [
    "#params for problem:\n",
    "g_p3 = [0,0,0]\n",
    "springPosn = [0,0,2]\n",
    "stiffness_p3_nd = 8\n",
    "restLength_p3_nd = 0\n",
    "damping_p3_nd = 0\n",
    "\n",
    "tf_p3 = 10\n",
    "dt_p3 = 0.01\n",
    "\n",
    "realtime0 = time.time()\n",
    "traj_p3_spring = Puppet( \\\n",
    "     damping_p3_nd, stiffness_p3_nd, restLength_p3_nd, springPosn, \\\n",
    "     tf_p3, dt_p3, g_p3, \n",
    "     Mlist, Glist, Slist, thetalist0, dthetalist0)\n",
    "realtimef = time.time()\n"
   ]
  },
  {
   "cell_type": "code",
   "execution_count": 47,
   "id": "d85e356d",
   "metadata": {},
   "outputs": [
    {
     "data": {
      "text/markdown": [
       "**Part 3a: Spring Force, No Damping**"
      ],
      "text/plain": [
       "<IPython.core.display.Markdown object>"
      ]
     },
     "metadata": {},
     "output_type": "display_data"
    },
    {
     "name": "stdout",
     "output_type": "stream",
     "text": [
      "Shape of Traj array: (1000, 6)\n",
      "Elapsed: 86.3 real-world seconds\n",
      "\n",
      "\n",
      "Damping coefficient used: 0\n",
      "Stiffness coefficient used: 8\n",
      "dt: 0.01\n",
      "tf: 10\n"
     ]
    }
   ],
   "source": [
    "display(Markdown(\"**Part 3a: Spring Force, No Damping**\"))\n",
    "print(f\"Shape of Traj array: {traj_p3_spring.shape}\")\n",
    "print(f\"Elapsed: {round(realtimef - realtime0,1)} real-world seconds\\n\")\n",
    "write_csv_mat(\"../csv/HW3_p3a_spring.csv\",traj_p3_spring)\n",
    "\n",
    "print(f\"\\nDamping coefficient used: {damping_p3_nd}\")\n",
    "print(f\"Stiffness coefficient used: {stiffness_p3_nd}\")\n",
    "print(f\"dt: {dt_p3}\")\n",
    "print(f\"tf: {tf_p3}\")"
   ]
  },
  {
   "cell_type": "code",
   "execution_count": 22,
   "id": "0d883c91",
   "metadata": {},
   "outputs": [],
   "source": [
    "#3b: modify damping and stiffness only\n",
    "stiffness_p3_posd = 8\n",
    "restLength_p3_posd = 0\n",
    "damping_p3_posd = 3\n",
    "\n",
    "tf_p3 = 10\n",
    "dt_p3 = 0.01\n",
    "\n",
    "realtime0 = time.time()\n",
    "traj_p3_spring_damped = Puppet( \\\n",
    "    damping_p3_posd, stiffness_p3_posd, restLength_p3_posd, springPosn, \\\n",
    "    tf_p3, dt_p3, g_p3, \\\n",
    "    Mlist, Glist, Slist, thetalist0, dthetalist0)\n",
    "realtimef = time.time()"
   ]
  },
  {
   "cell_type": "code",
   "execution_count": 48,
   "id": "91afed63",
   "metadata": {},
   "outputs": [
    {
     "data": {
      "text/markdown": [
       "**Part 3b: Spring Force with Damping**"
      ],
      "text/plain": [
       "<IPython.core.display.Markdown object>"
      ]
     },
     "metadata": {},
     "output_type": "display_data"
    },
    {
     "name": "stdout",
     "output_type": "stream",
     "text": [
      "Shape of Traj array: (1000, 6)\n",
      "Elapsed: 86.3 real-world seconds\n",
      "\n",
      "Damping coefficient used: 3\n",
      "Stiffness coefficient used: 8\n",
      "dt: 0.01\n",
      "tf: 10\n"
     ]
    }
   ],
   "source": [
    "display(Markdown(\"**Part 3b: Spring Force with Damping**\"))\n",
    "print(f\"Shape of Traj array: {traj_p3_spring_damped.shape}\")\n",
    "print(f\"Elapsed: {round(realtimef - realtime0,1)} real-world seconds\\n\")\n",
    "write_csv_mat(\"../csv/HW3_p3b_spring_damped.csv\",traj_p3_spring_damped)\n",
    "\n",
    "print(f\"Damping coefficient used: {damping_p3_posd}\")\n",
    "print(f\"Stiffness coefficient used: {stiffness_p3_posd}\")\n",
    "print(f\"dt: {dt_p3}\")\n",
    "print(f\"tf: {tf_p3}\")\n"
   ]
  },
  {
   "cell_type": "code",
   "execution_count": 24,
   "id": "e1a627e9",
   "metadata": {},
   "outputs": [],
   "source": [
    "#part 3c\n",
    "springPosn = [0,0,2]\n",
    "stiffness_p3_bigd = 50\n",
    "restLength_p3_bigd = 0\n",
    "damping_p3_bigd = 0\n",
    "\n",
    "tf_p3 = 10\n",
    "dt_p3 = 0.01\n",
    "\n",
    "realtime0 = time.time()\n",
    "traj_p3_spring_large = Puppet( \\\n",
    "     damping_p3_bigd, stiffness_p3_bigd, restLength_p3_bigd, springPosn, \\\n",
    "     tf_p3, dt_p3, g_p3, \n",
    "     Mlist, Glist, Slist, thetalist0, dthetalist0)\n",
    "realtimef = time.time()"
   ]
  },
  {
   "cell_type": "code",
   "execution_count": 49,
   "id": "138efaa1",
   "metadata": {},
   "outputs": [
    {
     "data": {
      "text/markdown": [
       "**Part 3c: Spring Force, Large Stiffness**"
      ],
      "text/plain": [
       "<IPython.core.display.Markdown object>"
      ]
     },
     "metadata": {},
     "output_type": "display_data"
    },
    {
     "name": "stdout",
     "output_type": "stream",
     "text": [
      "Shape of Traj array: (1000, 6)\n",
      "Elapsed: 86.3 real-world seconds\n",
      "\n",
      "Damping coefficient used: 0\n",
      "Stiffness coefficient used: 50\n",
      "dt: 0.01\n",
      "tf: 10\n"
     ]
    }
   ],
   "source": [
    "display(Markdown(\"**Part 3c: Spring Force, Large Stiffness**\"))\n",
    "print(f\"Shape of Traj array: {traj_p3_spring_large.shape}\")\n",
    "print(f\"Elapsed: {round(realtimef - realtime0,1)} real-world seconds\\n\")\n",
    "write_csv_mat(\"../csv/HW3_p3c_spring_large.csv\",traj_p3_spring_large)\n",
    "\n",
    "print(f\"Damping coefficient used: {damping_p3_bigd}\")\n",
    "print(f\"Stiffness coefficient used: {stiffness_p3_bigd}\")\n",
    "print(f\"dt: {dt_p3}\")\n",
    "print(f\"tf: {tf_p3}\")\n"
   ]
  },
  {
   "cell_type": "markdown",
   "id": "1db0cfe3",
   "metadata": {},
   "source": [
    "### Written:\n",
    "\n",
    "**Does the motion make sense to you?**\n",
    "\n",
    "The motion of the arm is consistent with a force being applied from the end effector of the robot towards a spring position of [0,0,2] in the space frame. The robot's consistent overshoot of the target position can be attributed to the inertia of each link in the open chain. The only part of the motion that surprised me was the consistent rotation of the last joint (to which the end effector is attached), but this may be due to the rotational inertia of the last few joints in the chain.\n",
    "\n",
    "\n",
    "**Should total energy be conserved?** \n",
    "\n",
    "Total energy should be conserved because there are no sources of energy into the system, and no damping forces that dissipate energy. At any given time the sum of kinetic energy and spring potential energy should be constant.\n",
    "\n",
    "\n",
    "**Does the total energy appear to be conserved?**\n",
    "\n",
    "Total energy appears to be increasing slightly. The last couple of motions of the robot arm show the arm swinging farther down after overshooting the target position. This may imply the Euler integration scheme is adding some energy at each timestep.\n",
    "\n",
    "\n",
    "**Do you see any strange behavior if you choose the spring constant to be large?**\n",
    "\n",
    "When I chose a spring constant of 50, I noticed that the motions of the robot arm did not always oscillate around the spring position as time went on. The robot arm started off with clear motion in the direction of the spring position, but then the system became more energetic, and the end effector accelerated in many different directions in rapid succession.\n",
    "\n",
    "This behavior may be due to the system gaining energy. Given that the spring forces are higher, the accelerations of the joints are higher as well, so the error from EulerStep() may be greater for this test with greater spring stiffness."
   ]
  },
  {
   "cell_type": "code",
   "execution_count": null,
   "id": "11e06666",
   "metadata": {},
   "outputs": [],
   "source": []
  }
 ],
 "metadata": {
  "kernelspec": {
   "display_name": "Python 3 (ipykernel)",
   "language": "python",
   "name": "python3"
  },
  "language_info": {
   "codemirror_mode": {
    "name": "ipython",
    "version": 3
   },
   "file_extension": ".py",
   "mimetype": "text/x-python",
   "name": "python",
   "nbconvert_exporter": "python",
   "pygments_lexer": "ipython3",
   "version": "3.10.7"
  }
 },
 "nbformat": 4,
 "nbformat_minor": 5
}
