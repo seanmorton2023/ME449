{
 "cells": [
  {
   "cell_type": "code",
   "execution_count": 3,
   "id": "2195a508",
   "metadata": {},
   "outputs": [],
   "source": [
    "#imports\n",
    "import numpy as np\n",
    "import core as mr\n",
    "import matplotlib.pyplot as plt\n",
    "import time"
   ]
  },
  {
   "cell_type": "code",
   "execution_count": 4,
   "id": "3469268c",
   "metadata": {},
   "outputs": [],
   "source": [
    "#parameters of the UR5 robot\n",
    "\n",
    "M01 = [[1, 0, 0, 0], \n",
    "       [0, 1, 0, 0], \n",
    "       [0, 0, 1, 0.089159], \n",
    "       [0, 0, 0, 1]]\n",
    "\n",
    "M12 = [[0, 0, 1, 0.28], \n",
    "       [0, 1, 0, 0.13585], \n",
    "       [-1, 0, 0, 0], \n",
    "       [0, 0, 0, 1]]\n",
    "\n",
    "M23 = [[1, 0, 0, 0], \n",
    "       [0, 1, 0, -0.1197], \n",
    "       [0, 0, 1, 0.395], \n",
    "       [0, 0, 0, 1]]\n",
    "\n",
    "M34 = [[0, 0, 1, 0], \n",
    "       [0, 1, 0, 0], \n",
    "       [-1, 0, 0, 0.14225], \n",
    "       [0, 0, 0, 1]]\n",
    "\n",
    "M45 = [[1, 0, 0, 0], \n",
    "       [0, 1, 0, 0.093], \n",
    "       [0, 0, 1, 0], \n",
    "       [0, 0, 0, 1]]\n",
    "\n",
    "M56 = [[1, 0, 0, 0], \n",
    "       [0, 1, 0, 0], \n",
    "       [0, 0, 1, 0.09465], \n",
    "       [0, 0, 0, 1]]\n",
    "\n",
    "M67 = [[1, 0, 0, 0], \n",
    "       [0, 0, 1, 0.0823], \n",
    "       [0, -1, 0, 0], \n",
    "       [0, 0, 0, 1]]\n",
    "\n",
    "G1 = np.diag([0.010267495893, 0.010267495893,  0.00666, 3.7, 3.7, 3.7])\n",
    "G2 = np.diag([0.22689067591, 0.22689067591, 0.0151074, 8.393, 8.393, 8.393])\n",
    "G3 = np.diag([0.049443313556, 0.049443313556, 0.004095, 2.275, 2.275, 2.275])\n",
    "G4 = np.diag([0.111172755531, 0.111172755531, 0.21942, 1.219, 1.219, 1.219])\n",
    "G5 = np.diag([0.111172755531, 0.111172755531, 0.21942, 1.219, 1.219, 1.219])\n",
    "G6 = np.diag([0.0171364731454, 0.0171364731454, 0.033822, 0.1879, 0.1879, 0.1879])"
   ]
  },
  {
   "cell_type": "code",
   "execution_count": 5,
   "id": "4a0d0715",
   "metadata": {},
   "outputs": [],
   "source": [
    "Glist = [G1, G2, G3, G4, G5, G6]\n",
    "Mlist = [M01, M12, M23, M34, M45, M56, M67] \n",
    "\n",
    "Slist = [[0,         0,         0,         0,        0,        0],\n",
    "         [0,         1,         1,         1,        0,        1],\n",
    "         [1,         0,         0,         0,       -1,        0],\n",
    "         [0, -0.089159, -0.089159, -0.089159, -0.10915, 0.005491],\n",
    "         [0,         0,         0,         0,  0.81725,        0],\n",
    "         [0,         0,     0.425,   0.81725,        0,  0.81725]]"
   ]
  },
  {
   "cell_type": "code",
   "execution_count": 37,
   "id": "22808d55",
   "metadata": {},
   "outputs": [],
   "source": [
    "#helper functions\n",
    "def write_csv_line(csv_filename, data):\n",
    "    with open(csv_filename, 'a') as f:\n",
    "        data_str = ','.join([str(i) for i in data]) + '\\n'\n",
    "        f.write(data_str)\n",
    "###\n",
    "\n",
    "def write_csv_mat(csv_filename, mat):\n",
    "    f = open(csv_filename, 'w') #clear out old data\n",
    "    f.close()\n",
    "    for row in mat:\n",
    "            write_csv_line(csv_filename, row)\n",
    "###\n",
    "    \n",
    "def ModEulerStep(thetalist, dthetalist, ddthetalist, dt):\n",
    "    \"\"\"EulerStep from the MR library, but with an additional\n",
    "    second-order term from acceleration contributing to changes in position.\n",
    "    \"\"\"\n",
    "    return thetalist + (dt * np.array(dthetalist) + 0.5 * dt**2 * np.array(dthetalist) ), \\\n",
    "           dthetalist + dt * np.array(ddthetalist)\n",
    "###"
   ]
  },
  {
   "cell_type": "code",
   "execution_count": 38,
   "id": "d8c52418",
   "metadata": {},
   "outputs": [],
   "source": [
    "#component functions for spring force, damping force, and simulation\n",
    "\n",
    "def SpringForce(Slist, thetalist, Mlist, stiffness, springPos, restLength):\n",
    "    '''\n",
    "    - Calculates the \"spring force\" acting on the end effector\n",
    "        of the robot, using position of end of spring, position\n",
    "        of end effector, and spring parameters.\n",
    "    - takes in:\n",
    "        -Slist: list of screw axes in space frame \n",
    "        -thetalist: list of current joint angles \n",
    "        -Mlist: home configurations of each joint rel. to.\n",
    "            each other\n",
    "        -stiffness: scalar with spring constant\n",
    "        -springPos: 3-vector position \n",
    "        -restLength: scalar with resting length of spring\n",
    "    - calls:\n",
    "        - T = FKinBody(M_endeff, Blist, thetalist)\n",
    "        - [R,p] = TranstoRp(FKinBody)\n",
    "        - x_diff = np.linalg.norm(deltap) - restLength\n",
    "    - returns:\n",
    "        Ftip, a 6x1 end-effector wrench caused by the spring force\n",
    "    '''\n",
    "\n",
    "    # - Find home configuration of end effector\n",
    "    M_matrices = [np.matrix(M) for M in Mlist]\n",
    "    M_ee = M_matrices[0] * \\\n",
    "            M_matrices[1] * \\\n",
    "            M_matrices[2] * \\\n",
    "            M_matrices[3] * \\\n",
    "            M_matrices[4] * \\\n",
    "            M_matrices[5] * \\\n",
    "            M_matrices[6]\n",
    "    \n",
    "    #     - apply product of exponentials in space frame\n",
    "    Tsb = mr.FKinSpace(M_ee, Slist, thetalist)\n",
    "    springPos_4_s = np.append(np.array(springPos), [1]) #add an extra 1 so we can multiply by transf. matrix\n",
    "    springPos_4_s = np.matrix(springPos_4_s).T\n",
    "    \n",
    "    pb = mr.TransInv(Tsb) * springPos_4_s\n",
    "    pb = np.array(pb[0:3].tolist())\n",
    "    \n",
    "    #springposn minus posn of end effector, in b,  will just be springposn - [0 0 0]\n",
    "    dp = pb[:]\n",
    "    \n",
    "    #direction of force given by unit vector of springposn\n",
    "    unit_dir = -dp / np.linalg.norm(dp)\n",
    "    \n",
    "    #magnitude of force given by (stiffness) * (norm(springPosn_b) - restlength)\n",
    "    mag_force = stiffness * (np.linalg.norm(pb) - restLength)\n",
    "    sf = (mag_force * unit_dir).T[0].tolist()\n",
    "    Fb = np.array([0, 0, 0, sf[0], sf[1], sf[2]])\n",
    "    \n",
    "    return Fb.tolist()\n",
    "\n",
    "def DampingForce(B, thetad_list):\n",
    "    '''\n",
    "    - Make a torque at each joint, equal to B * w\n",
    "    - takes in:\n",
    "        - damping constant B\n",
    "        - thetad_list: an nd-array, where n = # of joints of robot\n",
    "    - returns:\n",
    "        - an nd-array of joint torques, where n = # of joints\n",
    "    '''\n",
    "    tau_list = -B * np.array(thetad_list)\n",
    "    return tau_list.tolist()"
   ]
  },
  {
   "cell_type": "code",
   "execution_count": 39,
   "id": "cbd4386c",
   "metadata": {},
   "outputs": [
    {
     "ename": "AssertionError",
     "evalue": "",
     "output_type": "error",
     "traceback": [
      "\u001b[1;31m---------------------------------------------------------------------------\u001b[0m",
      "\u001b[1;31mAssertionError\u001b[0m                            Traceback (most recent call last)",
      "Cell \u001b[1;32mIn [39], line 30\u001b[0m\n\u001b[0;32m     28\u001b[0m \u001b[38;5;66;03m#check that spring force matches expected value\u001b[39;00m\n\u001b[0;32m     29\u001b[0m wrench \u001b[38;5;241m=\u001b[39m SpringForce(Slist, thetalist, Mlist, stiffness, spring_posn, restLength)\n\u001b[1;32m---> 30\u001b[0m \u001b[38;5;28;01massert\u001b[39;00m np\u001b[38;5;241m.\u001b[39mallclose(expected_wrench, wrench, rtol \u001b[38;5;241m=\u001b[39m \u001b[38;5;241m1E-4\u001b[39m, atol \u001b[38;5;241m=\u001b[39m \u001b[38;5;241m1E-4\u001b[39m) \u001b[38;5;66;03m#---> this used the space frame\u001b[39;00m\n\u001b[0;32m     32\u001b[0m \u001b[38;5;66;03m#with nonzero restLength\u001b[39;00m\n\u001b[0;32m     33\u001b[0m restLength \u001b[38;5;241m=\u001b[39m np\u001b[38;5;241m.\u001b[39msqrt(\u001b[38;5;241m3\u001b[39m)\u001b[38;5;241m/\u001b[39m\u001b[38;5;241m10\u001b[39m\n",
      "\u001b[1;31mAssertionError\u001b[0m: "
     ]
    }
   ],
   "source": [
    "#testing: plug in joint angles that give known positions; check that \n",
    "#position difference is close to expected values; force is a constant times that\n",
    "M_matrices = [np.matrix(M) for M in Mlist]\n",
    "M_ee = M_matrices[0] * \\\n",
    "        M_matrices[1] * \\\n",
    "        M_matrices[2] * \\\n",
    "        M_matrices[3] * \\\n",
    "        M_matrices[4] * \\\n",
    "        M_matrices[5] * \\\n",
    "        M_matrices[6]\n",
    "\n",
    "robot_posn = [0.1, 0.3, 0.6]\n",
    "R = np.identity(3)\n",
    "T = mr.RpToTrans(R, robot_posn)\n",
    "thetalist0 = [0.504, -0.168, -1.713, 4.131, 0.000, 0.000]\n",
    "thetalist, success = mr.IKinSpace(Slist, M_ee, T, thetalist0, 0.001, 0.0001)\n",
    "thetalist = thetalist.round(4).tolist()\n",
    "\n",
    "# print(M_ee) #looks as expected in CoppeliaSim\n",
    "# print(thetalist) #[0.8966, -0.0886, -1.5636, 3.2229, -1.5708, 0.6742]\n",
    "# print(success)\n",
    "\n",
    "spring_posn = [0.2, 0.4, 0.7]\n",
    "stiffness = 1\n",
    "restLength = 0\n",
    "expected_wrench = [0, 0, 0, 0.1, 0.1, 0.1]\n",
    "\n",
    "#check that spring force matches expected value\n",
    "wrench = SpringForce(Slist, thetalist, Mlist, stiffness, spring_posn, restLength)\n",
    "assert np.allclose(expected_wrench, wrench, rtol = 1E-4, atol = 1E-4) #---> this used the space frame\n",
    "\n",
    "#with nonzero restLength\n",
    "restLength = np.sqrt(3)/10\n",
    "wrench = SpringForce(Slist, thetalist, Mlist, stiffness, spring_posn, restLength)\n",
    "expected_wrench = np.array([0, 0, 0, 0, 0, 0])\n",
    "assert np.allclose(expected_wrench, wrench, rtol = 1E-4, atol = 1E-4) #---> this used the space frame\n",
    "\n",
    "thetalist = [0.1, 0.2, 0.3, 0.4, 0.5, 0.6]\n",
    "damping = 0.2\n",
    "assert np.allclose(DampingForce(damping, thetalist), [-0.02, -0.04, -0.06, -0.08, -0.10, -0.12])\n",
    "\n",
    "print(\"all assertions passed\")"
   ]
  },
  {
   "cell_type": "code",
   "execution_count": 43,
   "id": "c9219f58",
   "metadata": {},
   "outputs": [],
   "source": [
    "def Puppet(damping, stiffness, restLength, springPos,\\\n",
    "          tf, dt, \\\n",
    "          g, Mlist, Glist, Slist, \\\n",
    "          thetalist0, thetadlist0): \n",
    "    '''\n",
    "    - takes in\n",
    "        - damping stiffness restLength\n",
    "        - g, Mlist, Glist, Slist (g may be 0 in one sim)\n",
    "        - thetalist0, dthetalist0\n",
    "    - calculates\n",
    "        - end effector wrench Ftip\n",
    "        - applied joint torques taulist\n",
    "    - calls \n",
    "        - mr.ForwardDynamics(thetalist,dthetalist,taulist,\n",
    "            g,Ftip,Mlist,Glist,Slist)\n",
    "        - ModEulerStep(thetalist,dthetalist,ddthetalist,dt)\n",
    "        - SpringForce()\n",
    "        - DampingForce()\n",
    "    - returns: a N x n matrix of joint values, N = # of timesteps,\n",
    "        n = number of joints\n",
    "    '''\n",
    "    \n",
    "    thetalist = np.array(thetalist0)\n",
    "    thetadlist = np.array(thetadlist0)  \n",
    "    t_array = np.arange(0, tf, dt)\n",
    "    traj_array = np.zeros([len(t_array), len(thetalist)]) #N timesteps, n angles    \n",
    "    \n",
    "    to = time.time()\n",
    "    realtime_array = np.zeros([2*len(t_array),1])\n",
    "        \n",
    "    for i, t in enumerate(t_array):\n",
    "                \n",
    "        #calculate forces; call ForwardDynamics() with starting values of t, td, tdd lists\n",
    "        taulist = DampingForce(damping, thetadlist) \n",
    "        Fb_tip = SpringForce(Slist, thetalist, Mlist, stiffness, springPos, restLength)\n",
    "\n",
    "        realtime_array[2*i] = time.time() - to\n",
    "        thetaddlist = mr.ForwardDynamics(thetalist, thetadlist, taulist, \\\n",
    "                                            g, Fb_tip, Mlist, Glist, Slist)\n",
    "        realtime_array[2*i + 1] = time.time() - to\n",
    "        \n",
    "        # - use numerical integration to find theta, thetad at next timestep\n",
    "        thetalist_new, thetadlist_new = ModEulerStep(thetalist, thetadlist, thetaddlist, dt)\n",
    "        \n",
    "        # - store value of theta at next timestep in an array; reset theta and thetad       \n",
    "        traj_array[i,:] = thetalist_new\n",
    "        thetalist = thetalist_new\n",
    "        thetadlist = thetadlist_new\n",
    "        \n",
    "    #may want to change names of inputs to exactly match the asst later\n",
    "    #return traj_array, realtime_array\n",
    "    return traj_array\n",
    "\n",
    "###\n",
    "\n",
    "#debug: format of Puppet call looks good\n"
   ]
  },
  {
   "cell_type": "markdown",
   "id": "166778af",
   "metadata": {},
   "source": [
    "# Problem 1"
   ]
  },
  {
   "cell_type": "code",
   "execution_count": 44,
   "id": "be57330c",
   "metadata": {},
   "outputs": [
    {
     "ename": "KeyboardInterrupt",
     "evalue": "",
     "output_type": "error",
     "traceback": [
      "\u001b[1;31m---------------------------------------------------------------------------\u001b[0m",
      "\u001b[1;31mKeyboardInterrupt\u001b[0m                         Traceback (most recent call last)",
      "Cell \u001b[1;32mIn [44], line 14\u001b[0m\n\u001b[0;32m     11\u001b[0m springPosn \u001b[38;5;241m=\u001b[39m [\u001b[38;5;241m0\u001b[39m, \u001b[38;5;241m1\u001b[39m, \u001b[38;5;241m2\u001b[39m]  \n\u001b[0;32m     13\u001b[0m realtime0 \u001b[38;5;241m=\u001b[39m time\u001b[38;5;241m.\u001b[39mtime()\n\u001b[1;32m---> 14\u001b[0m traj_array, realtime_array \u001b[38;5;241m=\u001b[39m \u001b[43mPuppet\u001b[49m\u001b[43m(\u001b[49m\u001b[43mdamping\u001b[49m\u001b[43m,\u001b[49m\u001b[43m \u001b[49m\u001b[43mstiffness\u001b[49m\u001b[43m,\u001b[49m\u001b[43m \u001b[49m\u001b[43mrestLength\u001b[49m\u001b[43m,\u001b[49m\u001b[43m \u001b[49m\u001b[43mspringPosn\u001b[49m\u001b[43m,\u001b[49m\u001b[43m \u001b[49m\u001b[43mtf\u001b[49m\u001b[43m,\u001b[49m\u001b[43m \u001b[49m\u001b[43mdt\u001b[49m\u001b[43m,\u001b[49m\u001b[43m \u001b[49m\u001b[43mg\u001b[49m\u001b[43m,\u001b[49m\u001b[43m \u001b[49m\u001b[43mMlist\u001b[49m\u001b[43m,\u001b[49m\u001b[43m \u001b[49m\u001b[43mGlist\u001b[49m\u001b[43m,\u001b[49m\u001b[43m \u001b[49m\u001b[43mSlist\u001b[49m\u001b[43m,\u001b[49m\u001b[43m \u001b[49m\u001b[43mthetalist0\u001b[49m\u001b[43m,\u001b[49m\u001b[43m \u001b[49m\u001b[43mdthetalist0\u001b[49m\u001b[43m)\u001b[49m\n\u001b[0;32m     15\u001b[0m realtimef \u001b[38;5;241m=\u001b[39m time\u001b[38;5;241m.\u001b[39mtime()\n\u001b[0;32m     17\u001b[0m \u001b[38;5;28mprint\u001b[39m(\u001b[38;5;124mf\u001b[39m\u001b[38;5;124m\"\u001b[39m\u001b[38;5;124mShape of Traj array: \u001b[39m\u001b[38;5;132;01m{\u001b[39;00mtraj_array\u001b[38;5;241m.\u001b[39mshape\u001b[38;5;132;01m}\u001b[39;00m\u001b[38;5;124m\"\u001b[39m)\n",
      "Cell \u001b[1;32mIn [43], line 35\u001b[0m, in \u001b[0;36mPuppet\u001b[1;34m(damping, stiffness, restLength, springPos, tf, dt, g, Mlist, Glist, Slist, thetalist0, thetadlist0)\u001b[0m\n\u001b[0;32m     31\u001b[0m \u001b[38;5;28;01mfor\u001b[39;00m i, t \u001b[38;5;129;01min\u001b[39;00m \u001b[38;5;28menumerate\u001b[39m(t_array):\n\u001b[0;32m     32\u001b[0m             \n\u001b[0;32m     33\u001b[0m     \u001b[38;5;66;03m#calculate forces; call ForwardDynamics() with starting values of t, td, tdd lists\u001b[39;00m\n\u001b[0;32m     34\u001b[0m     taulist \u001b[38;5;241m=\u001b[39m DampingForce(damping, thetadlist) \n\u001b[1;32m---> 35\u001b[0m     Fb_tip \u001b[38;5;241m=\u001b[39m \u001b[43mSpringForce\u001b[49m\u001b[43m(\u001b[49m\u001b[43mSlist\u001b[49m\u001b[43m,\u001b[49m\u001b[43m \u001b[49m\u001b[43mthetalist\u001b[49m\u001b[43m,\u001b[49m\u001b[43m \u001b[49m\u001b[43mMlist\u001b[49m\u001b[43m,\u001b[49m\u001b[43m \u001b[49m\u001b[43mstiffness\u001b[49m\u001b[43m,\u001b[49m\u001b[43m \u001b[49m\u001b[43mspringPos\u001b[49m\u001b[43m,\u001b[49m\u001b[43m \u001b[49m\u001b[43mrestLength\u001b[49m\u001b[43m)\u001b[49m\n\u001b[0;32m     37\u001b[0m     realtime_array[\u001b[38;5;241m2\u001b[39m\u001b[38;5;241m*\u001b[39mi] \u001b[38;5;241m=\u001b[39m time\u001b[38;5;241m.\u001b[39mtime() \u001b[38;5;241m-\u001b[39m to\n\u001b[0;32m     38\u001b[0m     thetaddlist \u001b[38;5;241m=\u001b[39m mr\u001b[38;5;241m.\u001b[39mForwardDynamics(thetalist, thetadlist, taulist, \\\n\u001b[0;32m     39\u001b[0m                                         g, Fb_tip, Mlist, Glist, Slist)\n",
      "Cell \u001b[1;32mIn [38], line 35\u001b[0m, in \u001b[0;36mSpringForce\u001b[1;34m(Slist, thetalist, Mlist, stiffness, springPos, restLength)\u001b[0m\n\u001b[0;32m     26\u001b[0m M_ee \u001b[38;5;241m=\u001b[39m M_matrices[\u001b[38;5;241m0\u001b[39m] \u001b[38;5;241m*\u001b[39m \\\n\u001b[0;32m     27\u001b[0m         M_matrices[\u001b[38;5;241m1\u001b[39m] \u001b[38;5;241m*\u001b[39m \\\n\u001b[0;32m     28\u001b[0m         M_matrices[\u001b[38;5;241m2\u001b[39m] \u001b[38;5;241m*\u001b[39m \\\n\u001b[1;32m   (...)\u001b[0m\n\u001b[0;32m     31\u001b[0m         M_matrices[\u001b[38;5;241m5\u001b[39m] \u001b[38;5;241m*\u001b[39m \\\n\u001b[0;32m     32\u001b[0m         M_matrices[\u001b[38;5;241m6\u001b[39m]\n\u001b[0;32m     34\u001b[0m \u001b[38;5;66;03m#     - apply product of exponentials in space frame\u001b[39;00m\n\u001b[1;32m---> 35\u001b[0m Tsb \u001b[38;5;241m=\u001b[39m \u001b[43mmr\u001b[49m\u001b[38;5;241;43m.\u001b[39;49m\u001b[43mFKinSpace\u001b[49m\u001b[43m(\u001b[49m\u001b[43mM_ee\u001b[49m\u001b[43m,\u001b[49m\u001b[43m \u001b[49m\u001b[43mSlist\u001b[49m\u001b[43m,\u001b[49m\u001b[43m \u001b[49m\u001b[43mthetalist\u001b[49m\u001b[43m)\u001b[49m\n\u001b[0;32m     36\u001b[0m springPos_4_s \u001b[38;5;241m=\u001b[39m np\u001b[38;5;241m.\u001b[39mappend(np\u001b[38;5;241m.\u001b[39marray(springPos), [\u001b[38;5;241m1\u001b[39m]) \u001b[38;5;66;03m#add an extra 1 so we can multiply by transf. matrix\u001b[39;00m\n\u001b[0;32m     37\u001b[0m springPos_4_s \u001b[38;5;241m=\u001b[39m np\u001b[38;5;241m.\u001b[39mmatrix(springPos_4_s)\u001b[38;5;241m.\u001b[39mT\n",
      "File \u001b[1;32m~\\Downloads\\22F_MECH_ENG_449\\core.py:623\u001b[0m, in \u001b[0;36mFKinSpace\u001b[1;34m(M, Slist, thetalist)\u001b[0m\n\u001b[0;32m    621\u001b[0m T \u001b[38;5;241m=\u001b[39m np\u001b[38;5;241m.\u001b[39marray(M)\n\u001b[0;32m    622\u001b[0m \u001b[38;5;28;01mfor\u001b[39;00m i \u001b[38;5;129;01min\u001b[39;00m \u001b[38;5;28mrange\u001b[39m(\u001b[38;5;28mlen\u001b[39m(thetalist) \u001b[38;5;241m-\u001b[39m \u001b[38;5;241m1\u001b[39m, \u001b[38;5;241m-\u001b[39m\u001b[38;5;241m1\u001b[39m, \u001b[38;5;241m-\u001b[39m\u001b[38;5;241m1\u001b[39m):\n\u001b[1;32m--> 623\u001b[0m     T \u001b[38;5;241m=\u001b[39m np\u001b[38;5;241m.\u001b[39mdot(\u001b[43mMatrixExp6\u001b[49m\u001b[43m(\u001b[49m\u001b[43mVecTose3\u001b[49m\u001b[43m(\u001b[49m\u001b[43mnp\u001b[49m\u001b[38;5;241;43m.\u001b[39;49m\u001b[43marray\u001b[49m\u001b[43m(\u001b[49m\u001b[43mSlist\u001b[49m\u001b[43m)\u001b[49m\u001b[43m[\u001b[49m\u001b[43m:\u001b[49m\u001b[43m,\u001b[49m\u001b[43m \u001b[49m\u001b[43mi\u001b[49m\u001b[43m]\u001b[49m\u001b[43m \u001b[49m\u001b[43m\\\u001b[49m\n\u001b[0;32m    624\u001b[0m \u001b[43m                                   \u001b[49m\u001b[38;5;241;43m*\u001b[39;49m\u001b[43m \u001b[49m\u001b[43mthetalist\u001b[49m\u001b[43m[\u001b[49m\u001b[43mi\u001b[49m\u001b[43m]\u001b[49m\u001b[43m)\u001b[49m\u001b[43m)\u001b[49m, T)\n\u001b[0;32m    625\u001b[0m \u001b[38;5;28;01mreturn\u001b[39;00m T\n",
      "File \u001b[1;32m~\\Downloads\\22F_MECH_ENG_449\\core.py:369\u001b[0m, in \u001b[0;36mMatrixExp6\u001b[1;34m(se3mat)\u001b[0m\n\u001b[0;32m    363\u001b[0m theta \u001b[38;5;241m=\u001b[39m AxisAng3(omgtheta)[\u001b[38;5;241m1\u001b[39m]\n\u001b[0;32m    364\u001b[0m omgmat \u001b[38;5;241m=\u001b[39m se3mat[\u001b[38;5;241m0\u001b[39m: \u001b[38;5;241m3\u001b[39m, \u001b[38;5;241m0\u001b[39m: \u001b[38;5;241m3\u001b[39m] \u001b[38;5;241m/\u001b[39m theta\n\u001b[0;32m    365\u001b[0m \u001b[38;5;28;01mreturn\u001b[39;00m np\u001b[38;5;241m.\u001b[39mr_[np\u001b[38;5;241m.\u001b[39mc_[MatrixExp3(se3mat[\u001b[38;5;241m0\u001b[39m: \u001b[38;5;241m3\u001b[39m, \u001b[38;5;241m0\u001b[39m: \u001b[38;5;241m3\u001b[39m]),\n\u001b[0;32m    366\u001b[0m                    np\u001b[38;5;241m.\u001b[39mdot(np\u001b[38;5;241m.\u001b[39meye(\u001b[38;5;241m3\u001b[39m) \u001b[38;5;241m*\u001b[39m theta \\\n\u001b[0;32m    367\u001b[0m                           \u001b[38;5;241m+\u001b[39m (\u001b[38;5;241m1\u001b[39m \u001b[38;5;241m-\u001b[39m np\u001b[38;5;241m.\u001b[39mcos(theta)) \u001b[38;5;241m*\u001b[39m omgmat \\\n\u001b[0;32m    368\u001b[0m                           \u001b[38;5;241m+\u001b[39m (theta \u001b[38;5;241m-\u001b[39m np\u001b[38;5;241m.\u001b[39msin(theta)) \\\n\u001b[1;32m--> 369\u001b[0m                             \u001b[38;5;241m*\u001b[39m \u001b[43mnp\u001b[49m\u001b[38;5;241;43m.\u001b[39;49m\u001b[43mdot\u001b[49m\u001b[43m(\u001b[49m\u001b[43momgmat\u001b[49m\u001b[43m,\u001b[49m\u001b[43momgmat\u001b[49m\u001b[43m)\u001b[49m,\n\u001b[0;32m    370\u001b[0m                           se3mat[\u001b[38;5;241m0\u001b[39m: \u001b[38;5;241m3\u001b[39m, \u001b[38;5;241m3\u001b[39m]) \u001b[38;5;241m/\u001b[39m theta],\n\u001b[0;32m    371\u001b[0m              [[\u001b[38;5;241m0\u001b[39m, \u001b[38;5;241m0\u001b[39m, \u001b[38;5;241m0\u001b[39m, \u001b[38;5;241m1\u001b[39m]]]\n",
      "File \u001b[1;32m<__array_function__ internals>:180\u001b[0m, in \u001b[0;36mdot\u001b[1;34m(*args, **kwargs)\u001b[0m\n",
      "\u001b[1;31mKeyboardInterrupt\u001b[0m: "
     ]
    }
   ],
   "source": [
    "#testing\n",
    "damping = 0\n",
    "stiffness = 0\n",
    "restlength = 0\n",
    "tf = 5\n",
    "dt = 0.01\n",
    "\n",
    "g = 9.81 * np.array([0, 0, -1])\n",
    "thetalist0 = [0,0,0,0,0,0]\n",
    "dthetalist0 =[0,0,0,0,0,0]\n",
    "springPosn = [0, 1, 2]  \n",
    "\n",
    "realtime0 = time.time()\n",
    "traj_array, realtime_array = Puppet(damping, stiffness, restLength, springPosn, tf, dt, g, Mlist, Glist, Slist, thetalist0, dthetalist0)\n",
    "realtimef = time.time()\n",
    "\n",
    "print(f\"Shape of Traj array: {traj_array.shape}\")\n",
    "print(f\"Elapsed: {realtimef - realtime0}\")"
   ]
  },
  {
   "cell_type": "code",
   "execution_count": 41,
   "id": "168097e0",
   "metadata": {},
   "outputs": [
    {
     "name": "stdout",
     "output_type": "stream",
     "text": [
      " "
     ]
    }
   ],
   "source": [
    "%prun Puppet(damping, stiffness, restLength, springPosn, tf, dt, g, Mlist, Glist, Slist, thetalist0, dthetalist0)"
   ]
  },
  {
   "cell_type": "code",
   "execution_count": null,
   "id": "b3ba2709",
   "metadata": {},
   "outputs": [],
   "source": [
    "#show analysis of run time\n",
    "print(open('prun0', 'r').read())"
   ]
  },
  {
   "cell_type": "code",
   "execution_count": 19,
   "id": "1256a081",
   "metadata": {},
   "outputs": [
    {
     "data": {
      "text/plain": [
       "[<matplotlib.lines.Line2D at 0x18747372a40>]"
      ]
     },
     "execution_count": 19,
     "metadata": {},
     "output_type": "execute_result"
    },
    {
     "data": {
      "image/png": "[encoded data removed]",
      "text/plain": [
       "<Figure size 640x480 with 1 Axes>"
      ]
     },
     "metadata": {},
     "output_type": "display_data"
    }
   ],
   "source": [
    "#analyze what part of the code the function is spending the most time in\n",
    "n_iters = 5\n",
    "realtime_array_small = realtime_array[:2*n_iters,0]\n",
    "t_array_realtime = np.arange(0, n_iters * dt, dt/2).tolist()\n",
    "plt.plot(t_array_realtime, realtime_array_small)"
   ]
  },
  {
   "cell_type": "code",
   "execution_count": null,
   "id": "38b2698a",
   "metadata": {},
   "outputs": [],
   "source": [
    "#Post-Puppet:\n",
    "write_csv_mat(\"HW3_p1_grav_fine.csv\",traj_array)\n",
    "\n",
    "# - import the CSV file into CoppeliaSim\n",
    "# - adjust time multiplier so it takes 5s real time to play file.\n",
    "#     record results for time multiplier.\n",
    "\n",
    "#used time multiplier of about 3, but at this scale, motions don't appear realistic"
   ]
  },
  {
   "cell_type": "markdown",
   "id": "a910ac8d",
   "metadata": {},
   "source": [
    "# Problem 2"
   ]
  },
  {
   "cell_type": "code",
   "execution_count": null,
   "id": "3f24fc7d",
   "metadata": {},
   "outputs": [],
   "source": [
    "#damping = 1.5 - underdamped\n",
    "damping = 3\n",
    "traj_damped_pos = Puppet(damping, stiffness, restLength, springPosn, tf, dt, g, Mlist, Glist, Slist, thetalist0, dthetalist0)\n",
    "write_csv_mat(\"HW3_p2_damped_pos.csv\",traj_damped_pos)\n"
   ]
  },
  {
   "cell_type": "code",
   "execution_count": null,
   "id": "065c337c",
   "metadata": {},
   "outputs": [],
   "source": [
    "damping = -0.00001\n",
    "traj_damped_neg = Puppet(damping, stiffness, restLength, springPosn, tf, dt, g, Mlist, Glist, Slist, thetalist0, dthetalist0)"
   ]
  },
  {
   "cell_type": "code",
   "execution_count": null,
   "id": "c4110390",
   "metadata": {},
   "outputs": [],
   "source": [
    "#eventually this array blows up to infinity, so remove any nan terms\n",
    "for i in range(len(traj_damped_neg)):\n",
    "    row = traj_damped_neg[i,:]\n",
    "    nanmask = np.isnan(row)\n",
    "    if np.any(nanmask): #if NAN is in row; \"True\" in nanmask\n",
    "        firstnan = i\n",
    "        break\n",
    "\n",
    "print(firstnan)\n",
    "traj_damped_neg = traj_damped_neg[:firstnan]"
   ]
  },
  {
   "cell_type": "code",
   "execution_count": null,
   "id": "08aaf4c8",
   "metadata": {},
   "outputs": [],
   "source": [
    "write_csv_mat(\"HW3_p2_damped_neg.csv\",traj_damped_neg)"
   ]
  },
  {
   "cell_type": "markdown",
   "id": "f10cae8d",
   "metadata": {},
   "source": [
    "# Problem 3"
   ]
  },
  {
   "cell_type": "code",
   "execution_count": 58,
   "id": "abfad289",
   "metadata": {},
   "outputs": [],
   "source": [
    "#params for problem:\n",
    "g = [0,0,0]\n",
    "springPosn = [0,0,2]\n",
    "stiffness = 8\n",
    "restLength = 0\n",
    "damping = 0\n",
    "\n",
    "thetalist0 = [0,0,0,0,0,0]\n",
    "dthetalist0 =[0,0,0,0,0,0]\n",
    "\n",
    "tf = 10\n",
    "dt = 0.01\n",
    "\n",
    "realtime0 = time.time()\n",
    "traj_spring = Puppet(damping, stiffness, restLength, springPosn, tf, dt, g, Mlist, Glist, Slist, thetalist0, dthetalist0)\n",
    "realtimef = time.time()\n"
   ]
  },
  {
   "cell_type": "code",
   "execution_count": 59,
   "id": "37f65727",
   "metadata": {},
   "outputs": [
    {
     "name": "stdout",
     "output_type": "stream",
     "text": [
      "Shape of Traj array: (1000, 6)\n",
      "Elapsed: 108.73219561576843\n"
     ]
    }
   ],
   "source": [
    "write_csv_mat(\"HW3_p3_spring.csv\",traj_spring)\n",
    "print(f\"Shape of Traj array: {traj_spring.shape}\")\n",
    "print(f\"Elapsed: {realtimef - realtime0}\")"
   ]
  },
  {
   "cell_type": "code",
   "execution_count": 16,
   "id": "f1c174d9",
   "metadata": {},
   "outputs": [
    {
     "data": {
      "text/plain": [
       "<matplotlib.legend.Legend at 0x1e0a168df00>"
      ]
     },
     "execution_count": 16,
     "metadata": {},
     "output_type": "execute_result"
    },
    {
     "data": {
      "image/png": "[encoded data removed]",
      "text/plain": [
       "<Figure size 640x480 with 1 Axes>"
      ]
     },
     "metadata": {},
     "output_type": "display_data"
    }
   ],
   "source": [
    "#check results by plotting trajectory over time\n",
    "plt.clf()\n",
    "t_array = np.arange(0, tf, dt)\n",
    "\n",
    "plt.plot(t_array, traj_spring[:,0], label=\"T1\")\n",
    "plt.plot(t_array, traj_spring[:,1], label=\"T2\")\n",
    "plt.plot(t_array, traj_spring[:,2], label=\"T3\")\n",
    "plt.plot(t_array, traj_spring[:,3], label=\"T4\")\n",
    "plt.plot(t_array, traj_spring[:,4], label=\"T5\")\n",
    "# plt.plot(t_array, traj_spring[:,5], label=\"T6\")\n",
    "\n",
    "\n",
    "plt.xlabel(\"Time (s)\")\n",
    "plt.ylabel(\"Angle (rad)\")\n",
    "plt.legend()"
   ]
  },
  {
   "cell_type": "markdown",
   "id": "0cd35957",
   "metadata": {},
   "source": [
    "Questions for Office Hours:\n",
    "- Check on the energetic behavior of my system in the first problem. Looks like it could be feasible\n",
    "    at time step = 1, but seems highly strange when time is normalized to 5s\n",
    "    \n",
    "    answer: starts off reasonable, then gets worse. he says it's likely a result of the integration getting\n",
    "        worse and worse, due to EulerStep. not something to worry about too much, but I could decrease dt to check\n",
    "            --> and keep that small dt for future problems\n",
    "    \n",
    "- getting some NANs and some behavior of the system blowing up to infinity with positive damping. Check about \n",
    "    why system is blowing up even with damping involved\n",
    "    \n",
    "        --other people got this as well with dt = 0.01, but it shouldn't behave this way, Kevin says\n",
    "        \n",
    "- functions are incredibly slow - without spring force, and especially with spring force. check if they have\n",
    "    insight on how to optimize code, or if MR code is slow in general"
   ]
  },
  {
   "cell_type": "code",
   "execution_count": 60,
   "id": "0d883c91",
   "metadata": {},
   "outputs": [],
   "source": [
    "#plot model with damping\n",
    "#params for problem:\n",
    "g = [0,0,0]\n",
    "springPosn = [0,0,2]\n",
    "stiffness = 8\n",
    "restLength = 0\n",
    "damping = 3\n",
    "\n",
    "thetalist0 = [0,0,0,0,0,0]\n",
    "dthetalist0 =[0,0,0,0,0,0]\n",
    "\n",
    "tf = 10\n",
    "dt = 0.01\n",
    "\n",
    "realtime0 = time.time()\n",
    "traj_spring_damped = Puppet(damping, stiffness, restLength, springPosn, tf, dt, g, Mlist, Glist, Slist, thetalist0, dthetalist0)\n",
    "realtimef = time.time()\n"
   ]
  },
  {
   "cell_type": "code",
   "execution_count": 61,
   "id": "91afed63",
   "metadata": {},
   "outputs": [
    {
     "name": "stdout",
     "output_type": "stream",
     "text": [
      "Shape of Traj array: (1000, 6)\n",
      "Elapsed: 127.94456481933594\n"
     ]
    }
   ],
   "source": [
    "write_csv_mat(\"HW3_p3_spring_damped.csv\",traj_spring_damped)\n",
    "print(f\"Shape of Traj array: {traj_spring_damped.shape}\")\n",
    "print(f\"Elapsed: {realtimef - realtime0}\")"
   ]
  },
  {
   "cell_type": "markdown",
   "id": "cbf94ca6",
   "metadata": {},
   "source": [
    "ok, results of those values of damping and stiffness are pretty good! record some videos"
   ]
  },
  {
   "cell_type": "code",
   "execution_count": null,
   "id": "c4a33a16",
   "metadata": {},
   "outputs": [],
   "source": []
  },
  {
   "cell_type": "code",
   "execution_count": null,
   "id": "634c890b",
   "metadata": {},
   "outputs": [],
   "source": []
  },
  {
   "cell_type": "code",
   "execution_count": null,
   "id": "a92edeb0",
   "metadata": {},
   "outputs": [],
   "source": []
  }
 ],
 "metadata": {
  "kernelspec": {
   "display_name": "Python 3 (ipykernel)",
   "language": "python",
   "name": "python3"
  },
  "language_info": {
   "codemirror_mode": {
    "name": "ipython",
    "version": 3
   },
   "file_extension": ".py",
   "mimetype": "text/x-python",
   "name": "python",
   "nbconvert_exporter": "python",
   "pygments_lexer": "ipython3",
   "version": "3.10.7"
  }
 },
 "nbformat": 4,
 "nbformat_minor": 5
}
