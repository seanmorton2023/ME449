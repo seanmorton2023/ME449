{
 "cells": [
  {
   "cell_type": "markdown",
   "id": "596c98a3",
   "metadata": {},
   "source": [
    "# Modern Robotics HW1 - Part 2\n",
    "### Sean Morton, 10/14/22\n",
    "\n",
    "\n",
    "My method of calculating the joint angles given the rotation matrices was as follows:\n",
    "1. calculate the rotation matrices for frame {i+1} relative to frame {i} using the rotation matrices provided\n",
    "2. convert rotation matrices to so(3) representation\n",
    "3. convert so(3) representation to axis-and-angle representation\n",
    "4. if output of step [3] gave an axis opposite to our reference axes, multiply the axis and the angle by -1\n",
    "5. calculate Rsb through 2 methods to verify matrix calculations worked\n",
    "\n",
    "Calculated joint angles: [-2.969482157066879, -0.7853926894212007, -1.5707661989213484, -0.8726096667837093, 0.15704051490320972, -1.658121567631211]\n"
   ]
  },
  {
   "cell_type": "code",
   "execution_count": 1,
   "id": "7094fa9e",
   "metadata": {},
   "outputs": [],
   "source": [
    "import core as mr\n",
    "import numpy as np"
   ]
  },
  {
   "cell_type": "markdown",
   "id": "6716ad27",
   "metadata": {},
   "source": [
    "Define axes of rotation for each joint:"
   ]
  },
  {
   "cell_type": "code",
   "execution_count": 13,
   "id": "2a6c4c33",
   "metadata": {},
   "outputs": [],
   "source": [
    "axes_ref = [\n",
    "    [0, 0, 1],\n",
    "    [0, 1, 0],\n",
    "    [0, 1, 0],\n",
    "    [0, 1, 0],\n",
    "    [0, 0, -1],\n",
    "    [0, 1, 0],\n",
    "]"
   ]
  },
  {
   "cell_type": "markdown",
   "id": "77b6948b",
   "metadata": {},
   "source": [
    "Matrix calculations:"
   ]
  },
  {
   "cell_type": "code",
   "execution_count": 4,
   "id": "3f2a1e82",
   "metadata": {},
   "outputs": [],
   "source": [
    "#define existing rotation matrices\n",
    "R13 = np.matrix([[-0.7071, 0, -0.7071], [0, 1, 0], [0.7071, 0, -0.7071]])\n",
    "Rs2 = np.matrix([[-0.6964, 0.1736, 0.6964], [-0.1228, -0.9848, 0.1228], [0.7071, 0, 0.7071]])\n",
    "R15 = np.matrix([[-0.9839, -0.1558, 0.0872], [-0.1564, 0.9877, 0], [-0.0861, -0.0136, -0.9962]])\n",
    "R12 = np.matrix([[0.7071, 0, -0.7071], [0, 1, 0], [0.7071, 0, 0.7071]])\n",
    "R34 = np.matrix([[0.6428, 0, -0.7660], [0, 1, 0], [0.7660, 0, 0.6428]])\n",
    "Rs6 = np.matrix([[-0.1676, 0.3250, -0.9308], [-0.0434, -0.9456, -0.3224], [-0.9849, -0.0136, 0.1726]])\n",
    "R6b = np.matrix([[-1, 0, 0], [0, 0, 1], [0, 1, 0]])\n",
    "\n",
    "#define new R matrices in terms of old ones\n",
    "Rs1 = Rs2 * R12.T\n",
    "#R12 given\n",
    "R23 = R12.T * R13\n",
    "#R34 given\n",
    "R45 = R34.T * R13.T * R15\n",
    "R56 = R15.T * R12 * Rs2.T * Rs6\n",
    "\n",
    "#rotation matrix Rsb\n",
    "Rsb = Rs6 * R6b"
   ]
  },
  {
   "cell_type": "markdown",
   "id": "698483ef",
   "metadata": {},
   "source": [
    "Print results of matrix calculations:"
   ]
  },
  {
   "cell_type": "code",
   "execution_count": 9,
   "id": "ad70f0e7",
   "metadata": {},
   "outputs": [
    {
     "name": "stdout",
     "output_type": "stream",
     "text": [
      "Rs1:\n",
      "[[-0.9848 0.1736 0.0000]\n",
      " [-0.1737 -0.9848 -0.0000]\n",
      " [0.0000 0.0000 1.0000]]\n",
      "\n",
      "R12:\n",
      "[[0.7071 0.0000 -0.7071]\n",
      " [0.0000 1.0000 0.0000]\n",
      " [0.7071 0.0000 0.7071]]\n",
      "\n",
      "R23:\n",
      "[[-0.0000 0.0000 -1.0000]\n",
      " [0.0000 1.0000 0.0000]\n",
      " [1.0000 0.0000 0.0000]]\n",
      "\n",
      "R34:\n",
      "[[0.6428 0.0000 -0.7660]\n",
      " [0.0000 1.0000 0.0000]\n",
      " [0.7660 0.0000 0.6428]]\n",
      "\n",
      "R45:\n",
      "[[0.9876 0.1564 -0.0001]\n",
      " [-0.1564 0.9877 0.0000]\n",
      " [0.0001 -0.0000 1.0000]]\n",
      "\n",
      "R56:\n",
      "[[-0.0872 0.0001 -0.9963]\n",
      " [-0.0000 1.0000 0.0001]\n",
      " [0.9962 -0.0000 -0.0871]]\n",
      "\n"
     ]
    }
   ],
   "source": [
    "#source for formatting: https://tinyurl.com/2m6w7r8n\n",
    "np.set_printoptions(formatter={'float_kind':'{:.4f}'.format})\n",
    "\n",
    "for i, R in enumerate(R_array):\n",
    "    \n",
    "    if i == 0:\n",
    "        print(\"Rs1:\")\n",
    "    else:\n",
    "        print(f\"R{i}{i+1}:\")\n",
    "    print(R.round(4), end = \"\\n\\n\")"
   ]
  },
  {
   "cell_type": "markdown",
   "id": "bc06c1d1",
   "metadata": {},
   "source": [
    "Matrix manipulation to get angles:"
   ]
  },
  {
   "cell_type": "code",
   "execution_count": 18,
   "id": "49e6d35c",
   "metadata": {},
   "outputs": [],
   "source": [
    "\n",
    "R_array = [Rs1, R12, R23, R34, R45, R56] #b is fixed relative to 6, so this isn't a joint angle\n",
    "\n",
    "#take matrix log of R, then turn so(3) matrix into [axis, angle]\n",
    "J_vec_array = [mr.so3ToVec(mr.MatrixLog3(R.tolist())) for R in R_array]\n",
    "J_ax_array = [mr.AxisAng3(vec)[0] for vec in J_vec_array]\n",
    "J_ang_array = [mr.AxisAng3(vec)[1] for vec in J_vec_array]\n",
    "\n",
    "for i, ax in enumerate(J_ax_array):\n",
    "\n",
    "    #if calculated axis is opposite from reference axis, flip the axis + angle\n",
    "    if (np.allclose(-ax, axes_ref[i], rtol = 0.001, atol = 0.001)):\n",
    "        J_ax_array[i] = -ax\n",
    "        J_ang_array[i] = -J_ang_array[i]\n",
    "        \n",
    "    #expected: T, T, T, T, F, T\n"
   ]
  },
  {
   "cell_type": "markdown",
   "id": "e0aca3c5",
   "metadata": {},
   "source": [
    "Print results of axis/angle calculations:"
   ]
  },
  {
   "cell_type": "code",
   "execution_count": 20,
   "id": "f794918e",
   "metadata": {},
   "outputs": [
    {
     "name": "stdout",
     "output_type": "stream",
     "text": [
      "Axis + angle Js1:\n",
      "[-0.0000 -0.0000 1.0000]\n",
      "-2.969482157066879\n",
      "\n",
      "Axis + angle J12:\n",
      "[-0.0000 1.0000 -0.0000]\n",
      "-0.7853926894212007\n",
      "\n",
      "Axis + angle J23:\n",
      "[-0.0000 1.0000 -0.0000]\n",
      "-1.5707661989213484\n",
      "\n",
      "Axis + angle J34:\n",
      "[-0.0000 1.0000 -0.0000]\n",
      "-0.8726096667837093\n",
      "\n",
      "Axis + angle J45:\n",
      "[-0.0001 -0.0004 -1.0000]\n",
      "0.15704051490320972\n",
      "\n",
      "Axis + angle J56:\n",
      "[0.0001 1.0000 0.0000]\n",
      "-1.658121567631211\n",
      "\n",
      "Joint angle vector (C-x C-v into CoppeliaSim:)\n",
      "[-2.969482157066879, -0.7853926894212007, -1.5707661989213484, -0.8726096667837093, 0.15704051490320972, -1.658121567631211]\n",
      "\n"
     ]
    }
   ],
   "source": [
    "  \n",
    "for i, (ax, ang) in enumerate(zip(J_ax_array, J_ang_array)):\n",
    "\n",
    "    if i == 0:\n",
    "        print(\"Axis + angle Js1:\")\n",
    "    else:\n",
    "        print(f\"Axis + angle J{i}{i+1}:\")\n",
    "    print(ax)\n",
    "    print(ang, end = '\\n\\n')\n",
    "    #print(f\"{round(J*360/2/3.14159, 2)} degrees\",end = \"\\n\\n\")\n",
    "\n",
    "#coppeliasim takes in 6 angles in radians, one for each joint\n",
    "print(\"Joint angle vector (C-x C-v into CoppeliaSim:)\")\n",
    "print(J_ang_array, end = '\\n\\n')"
   ]
  },
  {
   "cell_type": "markdown",
   "id": "04fa35f3",
   "metadata": {},
   "source": [
    "Check conformity of results for final rotation matrix:"
   ]
  },
  {
   "cell_type": "code",
   "execution_count": 21,
   "id": "dd2f5308",
   "metadata": {},
   "outputs": [
    {
     "name": "stdout",
     "output_type": "stream",
     "text": [
      "Rotation matrix Rsb:\n",
      "[[0.1676 -0.9308 0.3250]\n",
      " [0.0434 -0.3224 -0.9456]\n",
      " [0.9849 0.1726 -0.0136]]\n",
      "\n",
      "Test of calculated Rsb:\n",
      "[[0.1676 -0.9307 0.3249]\n",
      " [0.0434 -0.3224 -0.9456]\n",
      " [0.9848 0.1726 -0.0136]]\n",
      "\n"
     ]
    }
   ],
   "source": [
    "print(f\"Rotation matrix Rsb:\")\n",
    "print(Rsb, end = '\\n\\n')\n",
    "\n",
    "R_test = Rs1 * R12 * R23 * R34 * R45 * R56 * R6b\n",
    "print(\"Test of calculated Rsb:\")\n",
    "print(R_test, end = '\\n\\n')"
   ]
  }
 ],
 "metadata": {
  "kernelspec": {
   "display_name": "Python 3 (ipykernel)",
   "language": "python",
   "name": "python3"
  },
  "language_info": {
   "codemirror_mode": {
    "name": "ipython",
    "version": 3
   },
   "file_extension": ".py",
   "mimetype": "text/x-python",
   "name": "python",
   "nbconvert_exporter": "python",
   "pygments_lexer": "ipython3",
   "version": "3.10.7"
  }
 },
 "nbformat": 4,
 "nbformat_minor": 5
}
