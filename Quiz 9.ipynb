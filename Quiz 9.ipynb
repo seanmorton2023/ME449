{
 "cells": [
  {
   "cell_type": "code",
   "execution_count": 1,
   "id": "7cfcc461",
   "metadata": {},
   "outputs": [],
   "source": [
    "import numpy as np\n",
    "import sympy as sym"
   ]
  },
  {
   "cell_type": "code",
   "execution_count": 2,
   "id": "fd41ee31",
   "metadata": {},
   "outputs": [
    {
     "data": {
      "text/latex": [
       "$\\displaystyle \\left[\\begin{matrix}T^{5} a_{5} + T^{4} a_{4} + T^{3} a_{3}\\\\5 T^{4} a_{5} + 4 T^{3} a_{4} + 3 T^{2} a_{3}\\\\20 T^{3} a_{5} + 12 T^{2} a_{4} + 6 T a_{3}\\end{matrix}\\right]$"
      ],
      "text/plain": [
       "Matrix([\n",
       "[      T**5*a_5 + T**4*a_4 + T**3*a_3],\n",
       "[5*T**4*a_5 + 4*T**3*a_4 + 3*T**2*a_3],\n",
       "[ 20*T**3*a_5 + 12*T**2*a_4 + 6*T*a_3]])"
      ]
     },
     "metadata": {},
     "output_type": "display_data"
    },
    {
     "data": {
      "text/latex": [
       "$\\displaystyle \\left[\\begin{matrix}1\\\\0\\\\0\\end{matrix}\\right]$"
      ],
      "text/plain": [
       "Matrix([\n",
       "[1],\n",
       "[0],\n",
       "[0]])"
      ]
     },
     "metadata": {},
     "output_type": "display_data"
    }
   ],
   "source": [
    "a3, a4, a5 = sym.symbols(r'a_3, a_4, a_5')\n",
    "T = sym.symbols(r'T')\n",
    "\n",
    "expr1 = a3 * T**3 + a4 * T**4 + a5 * T**5\n",
    "expr2 = 3*a3*T**2 + 4*a4*T**3 + 5*a5*T**4\n",
    "expr3 = 6*a3*T + 12*a4*T**2 + 20*a5*T**3\n",
    "\n",
    "expr_mat = sym.Matrix([expr1, expr2, expr3])\n",
    "sol_vec = sym.Matrix([1, 0, 0])\n",
    "\n",
    "display(expr_mat)\n",
    "display(sol_vec)"
   ]
  },
  {
   "cell_type": "code",
   "execution_count": 3,
   "id": "40b9d1fb",
   "metadata": {},
   "outputs": [
    {
     "data": {
      "text/latex": [
       "$\\displaystyle \\left[\\begin{matrix}T^{5} a_{5} + T^{4} a_{4} + T^{3} a_{3}\\\\5 T^{4} a_{5} + 4 T^{3} a_{4} + 3 T^{2} a_{3}\\\\20 T^{3} a_{5} + 12 T^{2} a_{4} + 6 T a_{3}\\end{matrix}\\right] = \\left[\\begin{matrix}1\\\\0\\\\0\\end{matrix}\\right]$"
      ],
      "text/plain": [
       "Eq(Matrix([\n",
       "[      T**5*a_5 + T**4*a_4 + T**3*a_3],\n",
       "[5*T**4*a_5 + 4*T**3*a_4 + 3*T**2*a_3],\n",
       "[ 20*T**3*a_5 + 12*T**2*a_4 + 6*T*a_3]]), Matrix([\n",
       "[1],\n",
       "[0],\n",
       "[0]]))"
      ]
     },
     "metadata": {},
     "output_type": "display_data"
    }
   ],
   "source": [
    "eqn = sym.Eq(expr_mat, sol_vec)\n",
    "display(eqn)"
   ]
  },
  {
   "cell_type": "code",
   "execution_count": 7,
   "id": "2d9ee29a",
   "metadata": {},
   "outputs": [
    {
     "data": {
      "text/latex": [
       "$\\displaystyle a_{3} = \\frac{10}{T^{3}}$"
      ],
      "text/plain": [
       "Eq(a_3, 10/T**3)"
      ]
     },
     "metadata": {},
     "output_type": "display_data"
    },
    {
     "data": {
      "text/latex": [
       "$\\displaystyle a_{4} = - \\frac{15}{T^{4}}$"
      ],
      "text/plain": [
       "Eq(a_4, -15/T**4)"
      ]
     },
     "metadata": {},
     "output_type": "display_data"
    },
    {
     "data": {
      "text/latex": [
       "$\\displaystyle a_{5} = \\frac{6}{T^{5}}$"
      ],
      "text/plain": [
       "Eq(a_5, 6/T**5)"
      ]
     },
     "metadata": {},
     "output_type": "display_data"
    }
   ],
   "source": [
    "q = [a3, a4, a5]\n",
    "ans = sym.solve(eqn, q)\n",
    "\n",
    "for a in ans.keys():\n",
    "    new = sym.Eq(a, ans[a])\n",
    "    display(new)"
   ]
  },
  {
   "cell_type": "code",
   "execution_count": 10,
   "id": "348ae6af",
   "metadata": {},
   "outputs": [
    {
     "name": "stdout",
     "output_type": "stream",
     "text": [
      "0.6825599999999996\n"
     ]
    }
   ],
   "source": [
    "#problem 5\n",
    "import core as mr\n",
    "\n",
    "# Question 5\n",
    "# Given a total travel time T = 5T=5 and the current time t = 3t=3, use the function \n",
    "# {\\tt QuinticTimeScaling}QuinticTimeScaling in the given software to calculate the \n",
    "# current path parameter s, with at least 2 decimal places, corresponding to a motion \n",
    "# that begins and ends at zero velocity and acceleration. \n",
    "T = 5\n",
    "t = 3\n",
    "v0 = 0\n",
    "a0 = 0\n",
    "vf = 0\n",
    "af = 0\n",
    "\n",
    "\n",
    "#function takes in T and t (at current time), returns s corresponding to t\n",
    "#purpose: show us we don't have to compute s(t) without help, in a real project, for a \n",
    "#given time scaling\n",
    "s = mr.QuinticTimeScaling(T,t)\n",
    "print(s)\n",
    "\n"
   ]
  },
  {
   "cell_type": "code",
   "execution_count": 11,
   "id": "5cd0c6b8",
   "metadata": {},
   "outputs": [],
   "source": [
    "#problem 6\n",
    "\n",
    "#purpose: show the 2 ways we can generate \"continuous\" trajectories\n",
    "#in MR - constant screw, or constant displacement\n",
    "\n",
    "Xs = [\n",
    "    [1, 0, 0, 0],\n",
    "    [0, 1, 0, 0],\n",
    "    [0, 0, 1, 0],\n",
    "    [0, 0, 0, 1]\n",
    "]\n",
    "\n",
    "Xend = [\n",
    "    [0, 0, 1, 1],\n",
    "    [1, 0, 0, 2],\n",
    "    [0, 1, 0, 3],\n",
    "    [0, 0, 0, 1]\n",
    "]\n",
    "\n",
    "Tf = 3\n",
    "method = 3\n",
    "N = 10\n",
    "\n",
    "traj = mr.ScrewTrajectory(Xs,Xend,Tf,N,method)"
   ]
  },
  {
   "cell_type": "code",
   "execution_count": 15,
   "id": "59e8c0d0",
   "metadata": {},
   "outputs": [
    {
     "name": "stdout",
     "output_type": "stream",
     "text": [
      "[[0.042, -0.041, 0.998, 0.933], [0.998, 0.042, -0.041, 1.972], [-0.041, 0.998, 0.042, 2.889], [0.0, 0.0, 0.0, 1.0]]\n"
     ]
    }
   ],
   "source": [
    "print(traj[8].round(3).tolist())"
   ]
  },
  {
   "cell_type": "code",
   "execution_count": 18,
   "id": "834889a4",
   "metadata": {},
   "outputs": [
    {
     "name": "stdout",
     "output_type": "stream",
     "text": [
      "[[0.014, -0.014, 1.0, 0.988], [1.0, 0.014, -0.014, 1.977], [-0.014, 1.0, 0.014, 2.965], [0.0, 0.0, 0.0, 1.0]]\n"
     ]
    }
   ],
   "source": [
    "traj = mr.CartesianTrajectory(Xs,Xend,Tf,N,5)\n",
    "print(traj[8].round(3).tolist())"
   ]
  }
 ],
 "metadata": {
  "kernelspec": {
   "display_name": "Python 3 (ipykernel)",
   "language": "python",
   "name": "python3"
  },
  "language_info": {
   "codemirror_mode": {
    "name": "ipython",
    "version": 3
   },
   "file_extension": ".py",
   "mimetype": "text/x-python",
   "name": "python",
   "nbconvert_exporter": "python",
   "pygments_lexer": "ipython3",
   "version": "3.10.7"
  }
 },
 "nbformat": 4,
 "nbformat_minor": 5
}
