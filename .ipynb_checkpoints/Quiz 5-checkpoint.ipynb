{
 "cells": [
  {
   "cell_type": "code",
   "execution_count": 2,
   "id": "fc7b047c",
   "metadata": {},
   "outputs": [],
   "source": [
    "import numpy as np\n",
    "import core as mr"
   ]
  },
  {
   "cell_type": "code",
   "execution_count": 5,
   "id": "ea2f54b3",
   "metadata": {},
   "outputs": [
    {
     "name": "stdout",
     "output_type": "stream",
     "text": [
      "\n",
      "Js: \n",
      "[[ 0.          0.          0.        ]\n",
      " [ 0.          0.          0.        ]\n",
      " [ 1.          1.          1.        ]\n",
      " [ 0.          0.          1.41421356]\n",
      " [ 0.         -1.         -2.41421356]\n",
      " [ 0.          0.          0.        ]]\n",
      "\n",
      "Js_T: \n",
      "[[ 0.          0.          1.          0.          0.          0.        ]\n",
      " [ 0.          0.          1.          0.         -1.          0.        ]\n",
      " [ 0.          0.          1.          1.41421356 -2.41421356  0.        ]]\n",
      "\n",
      "Fb: [[0]\n",
      " [0]\n",
      " [0]\n",
      " [2]\n",
      " [0]\n",
      " [0]]\n"
     ]
    },
    {
     "data": {
      "text/plain": [
       "[0.0, 0.0, 2.828]"
      ]
     },
     "execution_count": 5,
     "metadata": {},
     "output_type": "execute_result"
    }
   ],
   "source": [
    "#problem 1: wrench about an axis\n",
    "\n",
    "def sqrt(x):\n",
    "    return x**(0.5)\n",
    "\n",
    "#define space jacobian\n",
    "S1 = [0, 0, 1, 0, 0, 0]\n",
    "S2 = [0, 0, 1, 0, -1, 0]\n",
    "S3 = [0, 0, 1, sqrt(2)/2, -1 - sqrt(2), 0]\n",
    "Js = np.matrix([S1, S2, S3]).T\n",
    "\n",
    "print(f\"\\nJs: \\n{Js}\")\n",
    "print(f\"\\nJs_T: \\n{Js.T}\")\n",
    "\n",
    "\n",
    "#define wrench\n",
    "F = 2\n",
    "#Fb = np.matrix([0, 0, -F * sqrt(2), F, 0, 0]).T\n",
    "Fb = np.matrix([0, 0, 0, F, 0, 0]).T\n",
    "\n",
    "\n",
    "print(f\"\\nFb: {Fb}\")\n",
    "\n",
    "ans = (Js.T * Fb).round(3).T.tolist()[0]\n",
    "ans\n"
   ]
  },
  {
   "cell_type": "code",
   "execution_count": 53,
   "id": "36357f75",
   "metadata": {},
   "outputs": [
    {
     "name": "stdout",
     "output_type": "stream",
     "text": [
      "Jb: \n",
      "[[ 1.  1.  1.  1.]\n",
      " [-1. -1. -1.  0.]\n",
      " [ 3.  2.  1.  1.]]\n",
      "\n",
      "Fb:\n",
      "[[10]\n",
      " [10]\n",
      " [10]]\n",
      "\n",
      "Torques:\n",
      "[[30.]\n",
      " [20.]\n",
      " [10.]\n",
      " [20.]]\n"
     ]
    }
   ],
   "source": [
    "#problem 2\n",
    "\n",
    "#do this in software so I can eliminate human error\n",
    "L1, L2, L3, L4 = [1, 1, 1, 1]\n",
    "theta1, theta2, theta3, theta4 = [0, 0, np.pi/2, -np.pi/2]\n",
    "s4 = np.sin(theta4)\n",
    "c4 = np.cos(theta4)\n",
    "\n",
    "s34 = np.sin(theta3 + theta4)\n",
    "s234 = np.sin(theta2 + theta3 + theta4)\n",
    "c34 = np.cos(theta3 + theta4)\n",
    "c234 = np.cos(theta2 + theta3 + theta4)\n",
    "\n",
    "Jb = np.matrix([\n",
    "    [                            1,                   1,          1,  1],\n",
    "    [     L3*s4 + L2*s34 + L1*s234,      L3*s4 + L2*s34,      L3*s4,  0],\n",
    "    [L4 + L3*c4 + L2*c34 + L1*c234, L4 + L3*c4 + L2*c34, L4 + L3*c4, L4]\n",
    "])\n",
    "\n",
    "print(f'Jb: \\n{Jb}')\n",
    "\n",
    "Fb = np.matrix([0, 0, 10, 10, 10, 0])\n",
    "Fb_mod = Fb[:, 2:5].T\n",
    "print('\\nFb:')\n",
    "print(Fb_mod)\n",
    "\n",
    "#find joint torques using transpose of jacobian * wrench\n",
    "torques = Jb.T * Fb_mod\n",
    "print('\\nTorques:')\n",
    "print(torques)"
   ]
  },
  {
   "cell_type": "code",
   "execution_count": 9,
   "id": "e825c70a",
   "metadata": {},
   "outputs": [
    {
     "data": {
      "text/plain": [
       "[[0.0, 0.0, 0.0],\n",
       " [0.0, 1.0, 0.0],\n",
       " [1.0, 0.0, 0.0],\n",
       " [0.0, -2.0, -0.0],\n",
       " [0.0, 0.0, 0.0],\n",
       " [0.0, 0.0, 1.0]]"
      ]
     },
     "execution_count": 9,
     "metadata": {},
     "output_type": "execute_result"
    }
   ],
   "source": [
    "#problem 3: Space Jacobian given inital conditions and angle of rotation\n",
    "\n",
    "#define screw axes at starting position\n",
    "S1 = [0, 0, 1, 0, 0, 0]\n",
    "S2 = [1, 0, 0, 0, 2, 0]\n",
    "S3 = [0, 0, 0, 0, 1, 0]\n",
    "S_list = np.matrix([S1, S2, S3]).T.tolist()\n",
    "\n",
    "#define joint angles of rotation\n",
    "theta_list = [np.pi/2, np.pi/2, 1]\n",
    "\n",
    "#find new jacobian at given position\n",
    "mr.JacobianSpace(S_list, theta_list).astype(int).tolist()\n",
    "#mr.JacobianSpace(S_list, theta_list).round(2).tolist()"
   ]
  },
  {
   "cell_type": "code",
   "execution_count": 44,
   "id": "066fbbe5",
   "metadata": {},
   "outputs": [
    {
     "data": {
      "text/plain": [
       "[[0, -1, 0], [0, 0, 0], [1, 0, 0], [0, 0, 0], [0, 4, 0], [0, 0, 1]]"
      ]
     },
     "execution_count": 44,
     "metadata": {},
     "output_type": "execute_result"
    }
   ],
   "source": [
    "#problem 4: screw axes and jacobian in body frame\n",
    "B1 = [0, 1, 0, 3, 0, 0]\n",
    "B2 = [-1, 0, 0, 0, 3, 0]\n",
    "B3 = [0, 0, 0, 0, 0, 1]\n",
    "B_list = np.matrix([B1, B2, B3]).T.tolist()\n",
    "\n",
    "mr.JacobianBody(B_list, theta_list).astype(int).tolist()"
   ]
  },
  {
   "cell_type": "code",
   "execution_count": 39,
   "id": "34097a95",
   "metadata": {},
   "outputs": [
    {
     "data": {
      "text/plain": [
       "[0.0872, 0.9962, -0.0002]"
      ]
     },
     "execution_count": 39,
     "metadata": {},
     "output_type": "execute_result"
    }
   ],
   "source": [
    "Jb = np.matrix([\n",
    "    [     0,   -1,     0,      0,    -1,     0, 0],\n",
    "    [     0,    0,     1,      0,     0,     1, 0],\n",
    "    [     1,    0,     0,      1,     0,     0, 1],\n",
    "    [-0.105,    0, 0.006, -0.045,     0, 0.006, 0],\n",
    "    [-0.889, 0.006,    0, -0.844, 0.006,     0, 0],\n",
    "    [     0, -0.105, 0.889,    0,     0,     0, 0]  \n",
    "])\n",
    "\n",
    "#portion of Jb corr. to linear velocity, for manipulability matrix\n",
    "Jv = Jb[3:6, :]\n",
    "\n",
    "#get manipulability matrix: either take eigenvalues + vectors,\n",
    "#or use a built-in function\n",
    "A = Jv * Jv.T\n",
    "(eig, eigv) = np.linalg.eig(A)\n",
    "\n",
    "#longest principal semi-axis is the second vector.\n",
    "#by inspection the eigenvectors are orthogonal (dot product = 9E-18)\n",
    "ans = eigv[:,1].round(4).T.tolist()[0]\n",
    "ans\n"
   ]
  },
  {
   "cell_type": "code",
   "execution_count": 43,
   "id": "7617c9db",
   "metadata": {},
   "outputs": [
    {
     "data": {
      "text/plain": [
       "1.231"
      ]
     },
     "execution_count": 43,
     "metadata": {},
     "output_type": "execute_result"
    }
   ],
   "source": [
    "#problem 6: length of longest principal semi-axis\n",
    "np.sqrt(eig[1]).round(3)"
   ]
  }
 ],
 "metadata": {
  "kernelspec": {
   "display_name": "Python 3 (ipykernel)",
   "language": "python",
   "name": "python3"
  },
  "language_info": {
   "codemirror_mode": {
    "name": "ipython",
    "version": 3
   },
   "file_extension": ".py",
   "mimetype": "text/x-python",
   "name": "python",
   "nbconvert_exporter": "python",
   "pygments_lexer": "ipython3",
   "version": "3.10.7"
  }
 },
 "nbformat": 4,
 "nbformat_minor": 5
}
