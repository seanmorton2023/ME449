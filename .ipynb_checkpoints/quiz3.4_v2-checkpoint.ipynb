{
 "cells": [
  {
   "cell_type": "code",
   "execution_count": 1,
   "id": "141177e4",
   "metadata": {},
   "outputs": [],
   "source": [
    "import core as mr\n",
    "import numpy as np"
   ]
  },
  {
   "cell_type": "code",
   "execution_count": 2,
   "id": "36e15f02",
   "metadata": {},
   "outputs": [
    {
     "data": {
      "text/plain": [
       "array([[ 1,  0,  0,  0],\n",
       "       [ 0,  0, -1,  0],\n",
       "       [ 0,  1,  0, -2],\n",
       "       [ 0,  0,  0,  1]])"
      ]
     },
     "metadata": {},
     "output_type": "display_data"
    }
   ],
   "source": [
    "Tsa = np.matrix([\n",
    "[0, -1, 0, 0],\n",
    "[0, 0, -1, 0],\n",
    "[1, 0,  0, 1],\n",
    "[0, 0,  0, 1]\n",
    "])\n",
    "\n",
    "Tsb = np.matrix([\n",
    "[1,  0, 0, 0],\n",
    "[0,  0, 1, 2],\n",
    "[0, -1, 0, 0],\n",
    "[0, 0, 0, 1]\n",
    "]\n",
    ")\n",
    "\n",
    "Tas = mr.TransInv(Tsa)\n",
    "Tbs = mr.TransInv(Tsb)\n",
    "display(Tbs)"
   ]
  },
  {
   "cell_type": "code",
   "execution_count": 3,
   "id": "2a8c30d6",
   "metadata": {},
   "outputs": [],
   "source": [
    "pb = np.matrix([1, 2, 3]).T\n",
    "\n",
    "Pas = np.matrix([\n",
    "[0, 0, 0],\n",
    "[0, 0, 1],\n",
    "[0, -1,0],\n",
    "])\n",
    "\n",
    "Ras = np.matrix([\n",
    "[0, 0, 1],\n",
    "[-1, 0, 0],\n",
    "[0, -1, 0]\n",
    "])\n",
    "\n",
    "pnew = Pas*Ras"
   ]
  },
  {
   "cell_type": "code",
   "execution_count": 4,
   "id": "ed5df65d",
   "metadata": {},
   "outputs": [
    {
     "data": {
      "text/plain": [
       "array([ 0.57735027, -0.57735027,  0.57735027,  0.35160503,  0.22574524,\n",
       "        0.35160503])"
      ]
     },
     "metadata": {},
     "output_type": "display_data"
    },
    {
     "data": {
      "text/plain": [
       "2.0943951023931957"
      ]
     },
     "metadata": {},
     "output_type": "display_data"
    }
   ],
   "source": [
    "se3 = mr.MatrixLog6(Tsa.tolist())\n",
    "exp_coords = mr.se3ToVec(se3)\n",
    "[s, theta] = mr.AxisAng6(exp_coords)\n",
    "\n",
    "display(s)\n",
    "display(theta)"
   ]
  },
  {
   "cell_type": "code",
   "execution_count": 5,
   "id": "e6062ab1",
   "metadata": {},
   "outputs": [
    {
     "data": {
      "text/plain": [
       "matrix([[ 1.],\n",
       "        [-3.],\n",
       "        [-2.],\n",
       "        [-3.],\n",
       "        [-1.],\n",
       "        [ 5.]])"
      ]
     },
     "execution_count": 5,
     "metadata": {},
     "output_type": "execute_result"
    }
   ],
   "source": [
    "Tas = np.linalg.inv(Tsa)\n",
    "AdT = mr.Adjoint(Tas.tolist())\n",
    "Vs = np.matrix([3, 2, 1, -1, -2, -3])\n",
    "Vs = Vs.T\n",
    "\n",
    "AdT * Vs"
   ]
  },
  {
   "cell_type": "code",
   "execution_count": 21,
   "id": "98d3c2ba",
   "metadata": {},
   "outputs": [
    {
     "data": {
      "text/plain": [
       "array([[ 0., -2.,  1.,  3.],\n",
       "       [ 2.,  0.,  0.,  0.],\n",
       "       [-1.,  0.,  0.,  0.],\n",
       "       [ 0.,  0.,  0.,  0.]])"
      ]
     },
     "metadata": {},
     "output_type": "display_data"
    },
    {
     "data": {
      "text/plain": [
       "array([[-0.617, -0.704,  0.352,  1.056],\n",
       "       [ 0.704, -0.294,  0.647,  1.941],\n",
       "       [-0.352,  0.647,  0.677, -0.97 ],\n",
       "       [ 0.   ,  0.   ,  0.   ,  1.   ]])"
      ]
     },
     "metadata": {},
     "output_type": "display_data"
    },
    {
     "data": {
      "text/plain": [
       "[[-0.617, -0.704, 0.352, 1.056],\n",
       " [0.704, -0.294, 0.647, 1.941],\n",
       " [-0.352, 0.647, 0.677, -0.97],\n",
       " [0.0, 0.0, 0.0, 1.0]]"
      ]
     },
     "execution_count": 21,
     "metadata": {},
     "output_type": "execute_result"
    }
   ],
   "source": [
    "s_theta = [0,1,2,3,0,0]\n",
    "\n",
    "se3mat = mr.VecTose3(s_theta)\n",
    "display(se3mat)\n",
    "matexp = mr.MatrixExp6(se3mat)\n",
    "display(matexp.round(3))\n",
    "matexp.round(3).tolist()\n"
   ]
  },
  {
   "cell_type": "code",
   "execution_count": 6,
   "id": "a22a4335",
   "metadata": {},
   "outputs": [
    {
     "data": {
      "text/plain": [
       "matrix([[-1.],\n",
       "        [ 0.],\n",
       "        [-4.],\n",
       "        [ 2.],\n",
       "        [ 0.],\n",
       "        [-1.]])"
      ]
     },
     "execution_count": 6,
     "metadata": {},
     "output_type": "execute_result"
    }
   ],
   "source": [
    "#Fs = [Ad_Tbs]^T * Fb\n",
    "\n",
    "Fb = np.matrix([1, 0, 0, 2, 1, 0]).T\n",
    "Tbs = mr.TransInv(Tsb)\n",
    "AdT = mr.Adjoint(Tbs)\n",
    "\n",
    "wrench_tf = (AdT.T * Fb)\n",
    "wrench_tf"
   ]
  },
  {
   "cell_type": "code",
   "execution_count": 30,
   "id": "b894cd73",
   "metadata": {},
   "outputs": [
    {
     "data": {
      "text/plain": [
       "[[0, 1, 0, 0], [-1, 0, 0, 3], [0, 0, 1, -1], [0, 0, 0, 1]]"
      ]
     },
     "execution_count": 30,
     "metadata": {},
     "output_type": "execute_result"
    }
   ],
   "source": [
    "T11 = np.matrix([\n",
    "    [0, -1, 0, 3],\n",
    "    [1, 0, 0, 0],\n",
    "    [0, 0, 1, 1],\n",
    "    [0, 0, 0, 1],\n",
    "])\n",
    "\n",
    "mr.TransInv(T11).tolist()"
   ]
  },
  {
   "cell_type": "code",
   "execution_count": 38,
   "id": "cd795bfc",
   "metadata": {},
   "outputs": [
    {
     "data": {
      "text/plain": [
       "[0, 0, 0, 0, 0, 0, -1, 2, 0, 1, 0, 3, 0, 0, 0, 0]"
      ]
     },
     "execution_count": 38,
     "metadata": {},
     "output_type": "execute_result"
    }
   ],
   "source": [
    "V12 = [1, 0, 0, 0, 2, 3]\n",
    "se3mat = mr.VecTose3(V12).tolist()\n",
    "se3mat = [int(x) for i in range(len(se3mat)) for x in se3mat[i] ]\n",
    "se3mat"
   ]
  },
  {
   "cell_type": "code",
   "execution_count": 40,
   "id": "2e9163f9",
   "metadata": {},
   "outputs": [
    {
     "data": {
      "text/plain": [
       "array([1, 0, 0, 1, 2, 0])"
      ]
     },
     "execution_count": 40,
     "metadata": {},
     "output_type": "execute_result"
    }
   ],
   "source": [
    "shat = [1, 0, 0]\n",
    "p = [0, 0, 2]\n",
    "h = 1\n",
    "\n",
    "S = mr.ScrewToAxis(p, shat, h)\n",
    "S"
   ]
  },
  {
   "cell_type": "code",
   "execution_count": 53,
   "id": "b11e5dba",
   "metadata": {},
   "outputs": [
    {
     "data": {
      "text/plain": [
       "array([[-3.67320510e-06, -1.00000000e+00,  0.00000000e+00,\n",
       "         3.00000551e+00],\n",
       "       [ 1.00000000e+00, -3.67320510e-06,  0.00000000e+00,\n",
       "         5.50981777e-06],\n",
       "       [ 0.00000000e+00,  0.00000000e+00,  1.00000000e+00,\n",
       "         1.00000000e+00],\n",
       "       [ 0.00000000e+00,  0.00000000e+00,  0.00000000e+00,\n",
       "         1.00000000e+00]])"
      ]
     },
     "metadata": {},
     "output_type": "display_data"
    },
    {
     "data": {
      "text/plain": [
       "[[0, 0, 0, 3], [0, 0, 0, 0], [0, 0, 1, 1], [0, 0, 0, 1]]"
      ]
     },
     "metadata": {},
     "output_type": "display_data"
    }
   ],
   "source": [
    "s_theta = [\n",
    "    [0, 1.5708, 0, 0], \n",
    "    [-1.5708, 0, 0, 0],\n",
    "    [0, 0, 0, 0], \n",
    "    [2.3562, -2.3562, 1, 0]\n",
    "]\n",
    "\n",
    "s_theta = np.matrix(s_theta).T\n",
    "T = mr.MatrixExp6(s_theta)\n",
    "display(T)\n",
    "display(T.astype(\"int\").tolist())\n",
    "\n",
    "#why do we lose 2 values?"
   ]
  },
  {
   "cell_type": "code",
   "execution_count": 55,
   "id": "ca7d5cf6",
   "metadata": {},
   "outputs": [
    {
     "data": {
      "text/plain": [
       "array([[ 0.        , -1.57079633,  0.        ,  2.35619449],\n",
       "       [ 1.57079633,  0.        ,  0.        , -2.35619449],\n",
       "       [ 0.        ,  0.        ,  0.        ,  1.        ],\n",
       "       [ 0.        ,  0.        ,  0.        ,  0.        ]])"
      ]
     },
     "metadata": {},
     "output_type": "display_data"
    }
   ],
   "source": [
    "T15 = [\n",
    "    [0, -1, 0, 3],\n",
    "    [1, 0, 0, 0],\n",
    "    [0, 0, 1, 1],\n",
    "    [0, 0, 0, 1]\n",
    "]\n",
    "\n",
    "se3mat = mr.MatrixLog6(T15)\n",
    "display(se3mat)"
   ]
  }
 ],
 "metadata": {
  "kernelspec": {
   "display_name": "Python 3 (ipykernel)",
   "language": "python",
   "name": "python3"
  },
  "language_info": {
   "codemirror_mode": {
    "name": "ipython",
    "version": 3
   },
   "file_extension": ".py",
   "mimetype": "text/x-python",
   "name": "python",
   "nbconvert_exporter": "python",
   "pygments_lexer": "ipython3",
   "version": "3.10.7"
  }
 },
 "nbformat": 4,
 "nbformat_minor": 5
}
