{
 "cells": [
  {
   "cell_type": "markdown",
   "id": "f9c64cd5",
   "metadata": {},
   "source": [
    "# Homework 2\n",
    "### Sean Morton, ME449"
   ]
  },
  {
   "cell_type": "code",
   "execution_count": 1,
   "id": "625d0ef3",
   "metadata": {},
   "outputs": [],
   "source": [
    "#imports\n",
    "import core as mr\n",
    "import numpy as np\n",
    "import pandas as pd\n",
    "import matplotlib.pyplot as plt"
   ]
  },
  {
   "cell_type": "code",
   "execution_count": 2,
   "id": "d935ca7c",
   "metadata": {},
   "outputs": [],
   "source": [
    "#variables determined from project description\n",
    "W1 = 0.109 #changed mm to m\n",
    "W2 = 0.082\n",
    "L1 = 0.425\n",
    "L2 = 0.392\n",
    "H1 = 0.089\n",
    "H2 = 0.095\n",
    "\n",
    "Jb = np.matrix([\n",
    "    [0,  1, 0, (W1 + W2),          0, (L1 + L2)],\n",
    "    [0,  0, 1,        H2, -(L1 + L2),         0],\n",
    "    [0,  0, 1,        H2,        -L2,         0],\n",
    "    [0,  0, 1,        H2,          0,         0],\n",
    "    [0, -1, 0,       -W2,          0,         0],\n",
    "    [0,  0, 1,         0,          0,         0]\n",
    "]).T\n",
    "\n",
    "# Tsd = np.matrix([\n",
    "#     [-1, 0, 0, -0.2],\n",
    "#     [0,  0, 1,  0.6],\n",
    "#     [0,  1, 0, 0.35],\n",
    "#     [0,  0, 0,    1]\n",
    "# ])\n",
    "Tsd = [\n",
    "    [-1, 0, 0, -0.2],\n",
    "    [0,  0, 1,  0.6],\n",
    "    [0,  1, 0, 0.35],\n",
    "    [0,  0, 0,    1]\n",
    "]\n",
    "\n",
    "M = np.matrix([\n",
    "    [-1, 0, 0, (L1 + L2)],\n",
    "    [ 0, 0, 1, (W1 + W2)],\n",
    "    [ 0, 1, 0, (H1 - H2)],\n",
    "    [ 0, 0, 0,         1]\n",
    "])"
   ]
  },
  {
   "cell_type": "code",
   "execution_count": 20,
   "id": "0a7acfb7",
   "metadata": {},
   "outputs": [
    {
     "name": "stdout",
     "output_type": "stream",
     "text": [
      "Tsa from testing:\n"
     ]
    },
    {
     "data": {
      "text/plain": [
       "array([[-1.   ,  0.   ,  0.   ,  0.033],\n",
       "       [ 0.   ,  0.   ,  1.   , -0.027],\n",
       "       [ 0.   ,  1.   ,  0.   ,  0.184],\n",
       "       [ 0.   ,  0.   ,  0.   ,  1.   ]])"
      ]
     },
     "metadata": {},
     "output_type": "display_data"
    },
    {
     "name": "stdout",
     "output_type": "stream",
     "text": [
      "Se3mat from testing:\n"
     ]
    },
    {
     "data": {
      "text/plain": [
       "array([[ 0.   , -2.221,  2.221, -0.006],\n",
       "       [ 2.221,  0.   , -0.   , -0.024],\n",
       "       [-2.221,  0.   ,  0.   ,  0.02 ],\n",
       "       [ 0.   ,  0.   ,  0.   ,  0.   ]])"
      ]
     },
     "metadata": {},
     "output_type": "display_data"
    },
    {
     "name": "stdout",
     "output_type": "stream",
     "text": [
      "Tsa from function:\n"
     ]
    },
    {
     "data": {
      "text/plain": [
       "array([[-1.        ,  0.00000531,  0.00000531,  0.0330009 ],\n",
       "       [ 0.00000531, -0.        ,  1.        , -0.02700009],\n",
       "       [ 0.00000531,  1.        , -0.        ,  0.18400095],\n",
       "       [ 0.        ,  0.        ,  0.        ,  1.        ]])"
      ]
     },
     "metadata": {},
     "output_type": "display_data"
    },
    {
     "name": "stdout",
     "output_type": "stream",
     "text": [
      "se3mat from function:\n"
     ]
    },
    {
     "data": {
      "text/plain": [
       "array([[ 0.00000000e+00,  0.00000000e+00,  0.00000000e+00,\n",
       "         2.00000000e-02],\n",
       "       [ 0.00000000e+00,  0.00000000e+00,  5.91952984e+05,\n",
       "         1.76383757e+08],\n",
       "       [ 0.00000000e+00, -5.91952984e+05,  0.00000000e+00,\n",
       "        -1.47042000e+03],\n",
       "       [ 0.00000000e+00,  0.00000000e+00,  0.00000000e+00,\n",
       "         0.00000000e+00]])"
      ]
     },
     "metadata": {},
     "output_type": "display_data"
    }
   ],
   "source": [
    "#helper functions\n",
    "def find_twist_for_error(M, Jb, Tsb, thetalist):\n",
    "    '''\n",
    "    - inputs: M, theta_list, Jb or Js, target transf. Tsb\n",
    "    - calculate current transformation matrix of e.e. Tsa from:\n",
    "        - starting config M\n",
    "        - joint angles theta_list\n",
    "        - Jacobian of robot in S or B frame\n",
    "    - find Tab: Tab = (Tsa)^-1 Tsb\n",
    "    - find twist by [V]*t = log(Tab)\n",
    "        - assume rotating w/ twist for unit time 1sec will\n",
    "            give trans. matrix\n",
    "    - V = se3ToVec([V])\n",
    "    '''\n",
    "    \n",
    "    #find transformation that describes difference between \n",
    "    #current position and desired position\n",
    "    Tsa = mr.FKinBody(M, Jb, thetalist)\n",
    "    Tab = mr.TransInv(Tsa) * Tsb\n",
    "    \n",
    "    #assume V*(1sec) gives transformation\n",
    "    se3_Vt = mr.MatrixLog6(Tab)\n",
    "    \n",
    "    np.set_printoptions(suppress=True)\n",
    "    print(\"Tsa from function:\")\n",
    "    display(Tsa)\n",
    "#     print(\"Tab from function:\")\n",
    "#     display(Tab)\n",
    "\n",
    "#     np.set_printoptions(suppress=True)\n",
    "    print(\"se3mat from function:\")\n",
    "    display(se3_Vt.round(3))\n",
    "    \n",
    "    V = mr.se3ToVec(se3_Vt)\n",
    "    \n",
    "    return V\n",
    "\n",
    "theta_list = np.array([3.14159, 3.14159, 3.14159, 3.14159, 3.14159, 3.14159])\n",
    "T_result = np.array([\n",
    "    [-1, 0, 0, 0.033],\n",
    "    [0, 0, 1, -0.027],\n",
    "    [0, 1, -0, 0.184],\n",
    "    [0, 0,  0,     1]\n",
    "]) #resulting transformation from these changes\n",
    "\n",
    "#say our desired configuration is:\n",
    "# T_desired = [\n",
    "#     [1,  0, 0, 0.600],\n",
    "#     [0,  0, 1, 0.027],\n",
    "#     [0, -1, 0,     0],\n",
    "#     [0, 0, 0,      1]\n",
    "# ] #I think this is achievable by the robot based on joints + links\n",
    "\n",
    "T_desired = [\n",
    "    [0.695,  0.719, 0,  0.729],\n",
    "    [    0,      0, 1, -0.027],\n",
    "    [0.719, -0.695, 0,  0.093],\n",
    "    [    0,      0, 0,      1]\n",
    "] #I think this is achievable by the robot based on joints + links\n",
    "\n",
    "Tab = mr.TransInv(T_result) * T_desired\n",
    "se3mat = mr.MatrixLog6(Tab)\n",
    "\n",
    "#print as scientific\n",
    "np.set_printoptions(suppress=False)\n",
    "print(\"Tsa from testing:\")\n",
    "display(T_result)\n",
    "# print(\"Tab from testing:\")\n",
    "# display(Tab)\n",
    "\n",
    "#print as float, not scientific\n",
    "print(\"Se3mat from testing:\")\n",
    "display(se3mat.round(3))\n",
    "\n",
    "V1 = mr.se3ToVec(se3mat)\n",
    "V2 = find_twist_for_error(M, Jb, T_desired, theta_list)\n",
    "\n",
    "# print(\"\\nV calculated using CoppeliaSim:\")\n",
    "# display(V1)\n",
    "# print(\"\\nV calculated by helper function:\")\n",
    "# display(V2)"
   ]
  },
  {
   "cell_type": "code",
   "execution_count": 4,
   "id": "b107fe1d",
   "metadata": {},
   "outputs": [],
   "source": [
    "def calculate_V_error(V):\n",
    "    '''\n",
    "    - inputs: a twist V\n",
    "    - outputs: [eomg_curr, elin_curr]\n",
    "    '''\n",
    "    w = V[0:3]\n",
    "    v = V[3:6]\n",
    "    mag_w = np.linalg.norm(w)\n",
    "    mag_v = np.linalg.norm(v)\n",
    "    return np.array([mag_w, mag_v])\n",
    "\n",
    "V = np.array([2,4,5,6,7,9])\n",
    "error = calculate_V_error(V)\n",
    "expected = [np.sqrt(45), np.sqrt(166)]\n",
    "\n",
    "assert np.allclose(expected, error), f\"Observed error: {error}\"\n"
   ]
  },
  {
   "cell_type": "code",
   "execution_count": 5,
   "id": "d9de38ee",
   "metadata": {},
   "outputs": [],
   "source": [
    "def convert_theta_to_xyz(M, Blist, csv_filepath):\n",
    "    '''\n",
    "    - write function to convert a series of joint angles into positions \n",
    "    in xyz coords of the end effector\n",
    "        - inputs: M, Blist/Slist, csv_filepath\n",
    "        - opens and iterates through CSV file\n",
    "        - uses: FKinBody() or FKinSpace(), inputs M, Blist/Slist, thetalist\n",
    "        - calculate a transformation matrix that results from \n",
    "            the joint angles applied\n",
    "        - take home configuration of robot and pre- or post-multiply\n",
    "            transformation from joint angles\n",
    "        - use [R,p] = TransToRp(T) to get the translation of the end\n",
    "            effector rel. to. body frame; extract set x,y,z = p\n",
    "        - outputs a list of lists, [ [x,y,z], [x,y,z], ...) \n",
    "        \n",
    "    Used for plotting the positions of the end effector over time.\n",
    "    '''\n",
    "    df = pd.read_csv(csv_filepath, header=None)\n",
    "    p_list = []\n",
    "    \n",
    "    for ind, row in df.iterrows():\n",
    "        angles = row.tolist()\n",
    "        \n",
    "        #apply forward kinematics with given angles; extract xyz and R\n",
    "        T = mr.FKinBody(M, Blist, angles)\n",
    "        [_, p] = mr.TransToRp(T)\n",
    "        p = p.round(3).tolist()\n",
    "        p_list.append(p)\n",
    "    \n",
    "    ####\n",
    "    return p_list\n",
    "        \n",
    "        \n",
    "expected = [\n",
    "    [-0.594, -0.167, -0.162],\n",
    "    [-0.055,  0.100, -0.364],\n",
    "    [ 0.033, -0.027,  0.184],\n",
    "    [ 0.817,  0.191,  0.005],\n",
    "]\n",
    "\n",
    "local_csv = \"test_hw2_angles.csv\"\n",
    "p_list = convert_theta_to_xyz(M, Jb,local_csv)\n",
    "\n",
    "#these tolerances make no sense, but I verified by inspection\n",
    "#that observed elements are close to expected elements within 0.001\n",
    "assert np.allclose(expected, p_list, atol = 0.02, rtol = 0.02), \\\n",
    "        f\"Observed result: {p_list}\""
   ]
  },
  {
   "cell_type": "code",
   "execution_count": null,
   "id": "f851b7c5",
   "metadata": {},
   "outputs": [],
   "source": []
  },
  {
   "cell_type": "code",
   "execution_count": null,
   "id": "91301767",
   "metadata": {},
   "outputs": [],
   "source": []
  }
 ],
 "metadata": {
  "kernelspec": {
   "display_name": "Python 3 (ipykernel)",
   "language": "python",
   "name": "python3"
  },
  "language_info": {
   "codemirror_mode": {
    "name": "ipython",
    "version": 3
   },
   "file_extension": ".py",
   "mimetype": "text/x-python",
   "name": "python",
   "nbconvert_exporter": "python",
   "pygments_lexer": "ipython3",
   "version": "3.10.7"
  }
 },
 "nbformat": 4,
 "nbformat_minor": 5
}
