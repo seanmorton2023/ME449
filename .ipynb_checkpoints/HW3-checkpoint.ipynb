{
 "cells": [
  {
   "cell_type": "code",
   "execution_count": 15,
   "id": "5bb8808a",
   "metadata": {},
   "outputs": [],
   "source": [
    "#imports\n",
    "import numpy as np\n",
    "import core as mr\n",
    "import matplotlib.pyplot as plt\n",
    "import time"
   ]
  },
  {
   "cell_type": "code",
   "execution_count": 2,
   "id": "f668e8bf",
   "metadata": {},
   "outputs": [],
   "source": [
    "#parameters of the UR5 robot\n",
    "\n",
    "M01 = [[1, 0, 0, 0], \n",
    "       [0, 1, 0, 0], \n",
    "       [0, 0, 1, 0.089159], \n",
    "       [0, 0, 0, 1]]\n",
    "\n",
    "M12 = [[0, 0, 1, 0.28], \n",
    "       [0, 1, 0, 0.13585], \n",
    "       [-1, 0, 0, 0], \n",
    "       [0, 0, 0, 1]]\n",
    "\n",
    "M23 = [[1, 0, 0, 0], \n",
    "       [0, 1, 0, -0.1197], \n",
    "       [0, 0, 1, 0.395], \n",
    "       [0, 0, 0, 1]]\n",
    "\n",
    "M34 = [[0, 0, 1, 0], \n",
    "       [0, 1, 0, 0], \n",
    "       [-1, 0, 0, 0.14225], \n",
    "       [0, 0, 0, 1]]\n",
    "\n",
    "M45 = [[1, 0, 0, 0], \n",
    "       [0, 1, 0, 0.093], \n",
    "       [0, 0, 1, 0], \n",
    "       [0, 0, 0, 1]]\n",
    "\n",
    "M56 = [[1, 0, 0, 0], \n",
    "       [0, 1, 0, 0], \n",
    "       [0, 0, 1, 0.09465], \n",
    "       [0, 0, 0, 1]]\n",
    "\n",
    "M67 = [[1, 0, 0, 0], \n",
    "       [0, 0, 1, 0.0823], \n",
    "       [0, -1, 0, 0], \n",
    "       [0, 0, 0, 1]]\n",
    "\n",
    "G1 = np.diag([0.010267495893, 0.010267495893,  0.00666, 3.7, 3.7, 3.7])\n",
    "G2 = np.diag([0.22689067591, 0.22689067591, 0.0151074, 8.393, 8.393, 8.393])\n",
    "G3 = np.diag([0.049443313556, 0.049443313556, 0.004095, 2.275, 2.275, 2.275])\n",
    "G4 = np.diag([0.111172755531, 0.111172755531, 0.21942, 1.219, 1.219, 1.219])\n",
    "G5 = np.diag([0.111172755531, 0.111172755531, 0.21942, 1.219, 1.219, 1.219])\n",
    "G6 = np.diag([0.0171364731454, 0.0171364731454, 0.033822, 0.1879, 0.1879, 0.1879])"
   ]
  },
  {
   "cell_type": "code",
   "execution_count": 3,
   "id": "63eb2f12",
   "metadata": {},
   "outputs": [],
   "source": [
    "Glist = [G1, G2, G3, G4, G5, G6]\n",
    "Mlist = [M01, M12, M23, M34, M45, M56, M67] \n",
    "\n",
    "Slist = [[0,         0,         0,         0,        0,        0],\n",
    "         [0,         1,         1,         1,        0,        1],\n",
    "         [1,         0,         0,         0,       -1,        0],\n",
    "         [0, -0.089159, -0.089159, -0.089159, -0.10915, 0.005491],\n",
    "         [0,         0,         0,         0,  0.81725,        0],\n",
    "         [0,         0,     0.425,   0.81725,        0,  0.81725]]"
   ]
  },
  {
   "cell_type": "code",
   "execution_count": 4,
   "id": "8409ea77",
   "metadata": {},
   "outputs": [],
   "source": [
    "#helper functions\n",
    "def write_csv_line(csv_filename, data):\n",
    "    with open(csv_filename, 'a') as f:\n",
    "        data_str = ','.join([str(i) for i in data]) + '\\n'\n",
    "        f.write(data_str)\n",
    "###\n",
    "\n",
    "def write_csv_mat(csv_filename, mat):\n",
    "    for row in mat:\n",
    "            write_csv_line(csv_filename, row)\n",
    "###\n",
    "    \n",
    "def ModEulerStep(thetalist, dthetalist, ddthetalist, dt):\n",
    "    \"\"\"EulerStep from the MR library, but with an additional\n",
    "    second-order term from acceleration contributing to changes in position.\n",
    "    \"\"\"\n",
    "    return thetalist + (dt * np.array(dthetalist) + 0.5 * dt**2 * np.array(dthetalist) ), \\\n",
    "           dthetalist + dt * np.array(ddthetalist)\n",
    "###"
   ]
  },
  {
   "cell_type": "code",
   "execution_count": 5,
   "id": "cec1085b",
   "metadata": {},
   "outputs": [],
   "source": [
    "#component functions for spring force, damping force, and simulation\n",
    "\n",
    "def SpringForce(Slist, thetalist, Mlist, stiffness, springPos, restLength):\n",
    "    '''\n",
    "    - Calculates the \"spring force\" acting on the end effector\n",
    "        of the robot, using position of end of spring, position\n",
    "        of end effector, and spring parameters.\n",
    "    - takes in:\n",
    "        -Slist: list of screw axes in space frame \n",
    "        -thetalist: list of current joint angles \n",
    "        -Mlist: home configurations of each joint rel. to.\n",
    "            each other\n",
    "        -stiffness: scalar with spring constant\n",
    "        -springPos: 3-vector position \n",
    "        -restLength: scalar with resting length of spring\n",
    "    - calls:\n",
    "        - T = FKinBody(M_endeff, Blist, thetalist)\n",
    "        - [R,p] = TranstoRp(FKinBody)\n",
    "        - x_diff = np.linalg.norm(deltap) - restLength\n",
    "    - returns:\n",
    "        Ftip, a 6x1 end-effector wrench caused by the spring force\n",
    "    '''\n",
    "\n",
    "    # - Find home configuration of end effector\n",
    "    M_matrices = [np.matrix(M) for M in Mlist]\n",
    "    M_ee = M_matrices[0] * \\\n",
    "            M_matrices[1] * \\\n",
    "            M_matrices[2] * \\\n",
    "            M_matrices[3] * \\\n",
    "            M_matrices[4] * \\\n",
    "            M_matrices[5] * \\\n",
    "            M_matrices[6]\n",
    "    \n",
    "    #     - apply product of exponentials in space frame\n",
    "    T = mr.FKinSpace(M_ee, Slist, thetalist)\n",
    "    [R,p] = mr.TransToRp(T)\n",
    "    \n",
    "    # - Define transformation to get from EE to spring posn, and apply spring force\n",
    "    dp = springPos - p\n",
    "    Fs = stiffness * np.array([0, 0, 0, dp[0], dp[1], dp[2]])\n",
    "                              \n",
    "    return Fs\n",
    "\n",
    "def DampingForce(B, thetad_list):\n",
    "    '''\n",
    "    - Make a torque at each joint, equal to B * w\n",
    "    - takes in:\n",
    "        - damping constant B\n",
    "        - thetad_list: an nd-array, where n = # of joints of robot\n",
    "    - returns:\n",
    "        - an nd-array of joint torques, where n = # of joints\n",
    "    '''\n",
    "    tau_list = -B * np.array(thetad_list)\n",
    "    return tau_list"
   ]
  },
  {
   "cell_type": "code",
   "execution_count": 6,
   "id": "db376f5b",
   "metadata": {},
   "outputs": [],
   "source": [
    "#testing: plug in joint angles that give known positions; check that \n",
    "#position difference is close to expected values; force is a constant times that\n",
    "M_matrices = [np.matrix(M) for M in Mlist]\n",
    "M_ee = M_matrices[0] * \\\n",
    "        M_matrices[1] * \\\n",
    "        M_matrices[2] * \\\n",
    "        M_matrices[3] * \\\n",
    "        M_matrices[4] * \\\n",
    "        M_matrices[5] * \\\n",
    "        M_matrices[6]\n",
    "\n",
    "robot_posn = [0.1, 0.3, 0.6]\n",
    "R = np.identity(3)\n",
    "T = mr.RpToTrans(R, robot_posn)\n",
    "thetalist0 = [0.504, -0.168, -1.713, 4.131, 0.000, 0.000]\n",
    "thetalist, success = mr.IKinSpace(Slist, M_ee, T, thetalist0, 0.001, 0.0001)\n",
    "thetalist = thetalist.round(4).tolist()\n",
    "\n",
    "# print(M_ee) #looks as expected in CoppeliaSim\n",
    "# print(thetalist) #[0.8966, -0.0886, -1.5636, 3.2229, -1.5708, 0.6742]\n",
    "# print(success)\n",
    "\n",
    "spring_posn = [0.2, 0.4, 0.7]\n",
    "stiffness = 1\n",
    "restLength = 0\n",
    "expected_wrench = [0, 0, 0, 0.1, 0.1, 0.1]\n",
    "\n",
    "#check that spring force matches expected value\n",
    "wrench = SpringForce(Slist, thetalist, Mlist, stiffness, spring_posn, restLength)\n",
    "assert np.allclose(expected_wrench, wrench, rtol = 1E-4, atol = 1E-4)\n",
    "\n",
    "thetalist = [0.1, 0.2, 0.3, 0.4, 0.5, 0.6]\n",
    "damping = 0.2\n",
    "assert np.allclose(DampingForce(damping, thetalist), [-0.02, -0.04, -0.06, -0.08, -0.10, -0.12])"
   ]
  },
  {
   "cell_type": "code",
   "execution_count": 19,
   "id": "ac1ec2db",
   "metadata": {},
   "outputs": [],
   "source": [
    "def Puppet(damping, stiffness, restLength, springPos,\\\n",
    "          tf, dt, \\\n",
    "          g, Mlist, Glist, Slist, \\\n",
    "          thetalist0, thetadlist0): \n",
    "    '''\n",
    "    - takes in\n",
    "        - damping stiffness restLength\n",
    "        - g, Mlist, Glist, Slist (g may be 0 in one sim)\n",
    "        - thetalist0, dthetalist0\n",
    "    - calculates\n",
    "        - end effector wrench Ftip\n",
    "        - applied joint torques taulist\n",
    "    - calls \n",
    "        - mr.ForwardDynamics(thetalist,dthetalist,taulist,\n",
    "            g,Ftip,Mlist,Glist,Slist)\n",
    "        - ModEulerStep(thetalist,dthetalist,ddthetalist,dt)\n",
    "        - SpringForce()\n",
    "        - DampingForce()\n",
    "    - returns: a N x n matrix of joint values, N = # of timesteps,\n",
    "        n = number of joints\n",
    "    '''\n",
    "    \n",
    "    thetalist = thetalist0[:]\n",
    "    thetadlist = thetadlist0[:]    \n",
    "    t_array = np.arange(0, tf, dt)\n",
    "    traj_array = np.zeros([len(t_array), len(thetalist)]) #N timesteps, n angles\n",
    "        \n",
    "    print(f\"Shape of Time array: {t_array.shape}\")\n",
    "    print(f\"Shape of Traj array: {traj_array.shape}\")\n",
    "    \n",
    "    \n",
    "    to = time.time()\n",
    "        \n",
    "    for i, t in enumerate(t_array):\n",
    "                \n",
    "        #calculate forces\n",
    "        taulist = DampingForce(damping, thetalist) \n",
    "        \n",
    "        # - Call ForwardDynamics() with starting values of thetad,\n",
    "        #     thetadd, theta\n",
    "        Ftip = SpringForce(Slist, thetalist, Mlist, stiffness, springPos, restLength)\n",
    "        thetaddlist = mr.ForwardDynamics(thetalist, thetadlist, taulist, \\\n",
    "                                            g, Ftip, Mlist, Glist, Slist)\n",
    "        \n",
    "        # - use numerical integration to find theta, thetad at next timestep\n",
    "        thetalist_new, thetadlist_new = ModEulerStep(thetalist, thetadlist, thetaddlist, dt)\n",
    "        \n",
    "        # - store value of theta at next timestep in an array; reset theta and thetad       \n",
    "        traj_array[i,:] = thetalist_new\n",
    "        thetalist = thetalist_new\n",
    "        thetadlist = thetadlist_new\n",
    "        \n",
    "    #may want to change names of inputs to exactly match the asst later\n",
    "    return traj_array\n",
    "\n",
    "###\n",
    "#testing\n",
    "damping = 0\n",
    "stiffness = 0\n",
    "restlength = 0\n",
    "tf = 5\n",
    "dt = 0.01\n",
    "\n",
    "g = 9.81 * np.array([0, 0, -1])\n",
    "thetalist0 = [0,0,0,0,0,0]\n",
    "dthetalist0 = [0,0,0,0,0,0]\n",
    "springPosn = [0, 1, 2]  "
   ]
  },
  {
   "cell_type": "code",
   "execution_count": 20,
   "id": "23974990",
   "metadata": {},
   "outputs": [
    {
     "name": "stdout",
     "output_type": "stream",
     "text": [
      "Shape of Time array: (500,)\n",
      "Shape of Traj array: (500, 6)\n",
      "Elapsed: 58.337610960006714\n"
     ]
    }
   ],
   "source": [
    "t_array = np.arange(0, tf, dt)\n",
    "\n",
    "realtime0 = time.time()\n",
    "traj_array = Puppet(damping, stiffness, restLength, springPosn, tf, dt, g, Mlist, Glist, Slist, thetalist0, dthetalist0)\n",
    "realtimef = time.time()\n",
    "print(f\"Elapsed: {realtimef - realtime0}\")"
   ]
  },
  {
   "cell_type": "code",
   "execution_count": 12,
   "id": "d8c2dd04",
   "metadata": {},
   "outputs": [
    {
     "name": "stdout",
     "output_type": "stream",
     "text": [
      "[[ 0.00000000e+00  0.00000000e+00  0.00000000e+00  0.00000000e+00\n",
      "   0.00000000e+00  0.00000000e+00]\n",
      " [ 0.00000000e+00  2.58523527e-03 -2.88804969e-03  3.02814426e-04\n",
      "  -1.88814818e-22 -9.64832902e-19]\n",
      " [-6.60431876e-07  7.75570580e-03 -8.66414908e-03  9.08221789e-04\n",
      "  -6.60431876e-07  2.21489399e-07]\n",
      " ...\n",
      " [ 2.23875792e-01 -6.28424548e-01 -1.09839179e+01  1.18963646e+01\n",
      "   2.06621188e-01 -2.85463917e-01]\n",
      " [ 2.18457024e-01 -6.64259737e-01 -1.10486060e+01  1.19996701e+01\n",
      "   2.01476196e-01 -2.88605846e-01]\n",
      " [ 2.13423596e-01 -6.94168614e-01 -1.11191438e+01  1.21027566e+01\n",
      "   1.96705781e-01 -2.91584958e-01]]\n"
     ]
    }
   ],
   "source": [
    "print(traj_array)"
   ]
  },
  {
   "cell_type": "code",
   "execution_count": 24,
   "id": "4f91756d",
   "metadata": {},
   "outputs": [
    {
     "data": {
      "text/plain": [
       "<Figure size 640x480 with 0 Axes>"
      ]
     },
     "metadata": {},
     "output_type": "display_data"
    },
    {
     "data": {
      "image/png": "[encoded data removed]",
      "text/plain": [
       "<Figure size 640x480 with 1 Axes>"
      ]
     },
     "metadata": {},
     "output_type": "display_data"
    }
   ],
   "source": [
    "#validation: check tracking trajectory of one angle to make sure it's reasonable\n",
    "plt.clf()\n",
    "plt.figure()\n",
    "plt.plot(t_array, traj_array)\n",
    "plt.xlabel(\"Time (s)\")\n",
    "plt.ylabel(\"Angle (deg)\")\n",
    "plt.legend([\"T1\",\"T2\",\"T3\", \"T4\", \"T5\", \"T6\"])\n",
    "plt.show()"
   ]
  },
  {
   "cell_type": "code",
   "execution_count": 25,
   "id": "80193578",
   "metadata": {},
   "outputs": [
    {
     "ename": "TypeError",
     "evalue": "write_csv_mat() missing 1 required positional argument: 'mat'",
     "output_type": "error",
     "traceback": [
      "\u001b[1;31m---------------------------------------------------------------------------\u001b[0m",
      "\u001b[1;31mTypeError\u001b[0m                                 Traceback (most recent call last)",
      "Cell \u001b[1;32mIn [25], line 1\u001b[0m\n\u001b[1;32m----> 1\u001b[0m \u001b[43mwrite_csv_mat\u001b[49m\u001b[43m(\u001b[49m\u001b[43mtraj_array\u001b[49m\u001b[43m)\u001b[49m\n",
      "\u001b[1;31mTypeError\u001b[0m: write_csv_mat() missing 1 required positional argument: 'mat'"
     ]
    }
   ],
   "source": [
    "write_csv_mat(\"HW3_traj.csv\",traj_array)\n",
    "#Post-Puppet:\n",
    "#     - Write the theta_array to a CSV file\n",
    "#     - import the CSV file into CoppeliaSim\n",
    "#     - adjust time multiplier so it takes 5s real time to play file.\n",
    "#         record results for time multiplier."
   ]
  }
 ],
 "metadata": {
  "kernelspec": {
   "display_name": "Python 3 (ipykernel)",
   "language": "python",
   "name": "python3"
  },
  "language_info": {
   "codemirror_mode": {
    "name": "ipython",
    "version": 3
   },
   "file_extension": ".py",
   "mimetype": "text/x-python",
   "name": "python",
   "nbconvert_exporter": "python",
   "pygments_lexer": "ipython3",
   "version": "3.10.7"
  }
 },
 "nbformat": 4,
 "nbformat_minor": 5
}
