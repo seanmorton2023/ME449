{
 "cells": [
  {
   "cell_type": "code",
   "execution_count": 2,
   "id": "316ce4fe",
   "metadata": {},
   "outputs": [],
   "source": [
    "import numpy as np\n",
    "import core as mr"
   ]
  },
  {
   "cell_type": "code",
   "execution_count": 3,
   "id": "3d06086f",
   "metadata": {},
   "outputs": [],
   "source": [
    "\n",
    "M01 = [[1, 0, 0, 0], [0, 1, 0, 0], [0, 0, 1, 0.089159], [0, 0, 0, 1]]\n",
    "M12 = [[0, 0, 1, 0.28], [0, 1, 0, 0.13585], [-1, 0, 0, 0], [0, 0, 0, 1]]\n",
    "M23 = [[1, 0, 0, 0], [0, 1, 0, -0.1197], [0, 0, 1, 0.395], [0, 0, 0, 1]]\n",
    "M34 = [[0, 0, 1, 0], [0, 1, 0, 0], [-1, 0, 0, 0.14225], [0, 0, 0, 1]]\n",
    "M45 = [[1, 0, 0, 0], [0, 1, 0, 0.093], [0, 0, 1, 0], [0, 0, 0, 1]]\n",
    "M56 = [[1, 0, 0, 0], [0, 1, 0, 0], [0, 0, 1, 0.09465], [0, 0, 0, 1]]\n",
    "M67 = [[1, 0, 0, 0], [0, 0, 1, 0.0823], [0, -1, 0, 0], [0, 0, 0, 1]]\n",
    "\n",
    "G1 = np.diag([0.010267495893, 0.010267495893,  0.00666, 3.7, 3.7, 3.7])\n",
    "G2 = np.diag([0.22689067591, 0.22689067591, 0.0151074, 8.393, 8.393, 8.393])\n",
    "G3 = np.diag([0.049443313556, 0.049443313556, 0.004095, 2.275, 2.275, 2.275])\n",
    "G4 = np.diag([0.111172755531, 0.111172755531, 0.21942, 1.219, 1.219, 1.219])\n",
    "G5 = np.diag([0.111172755531, 0.111172755531, 0.21942, 1.219, 1.219, 1.219])\n",
    "G6 = np.diag([0.0171364731454, 0.0171364731454, 0.033822, 0.1879, 0.1879, 0.1879])\n",
    "\n",
    "\n",
    "Glist = [G1, G2, G3, G4, G5, G6]\n",
    "Mlist = [M01, M12, M23, M34, M45, M56, M67] \n",
    "Slist = [[0,         0,         0,         0,        0,        0],\n",
    "         [0,         1,         1,         1,        0,        1],\n",
    "         [1,         0,         0,         0,       -1,        0],\n",
    "         [0, -0.089159, -0.089159, -0.089159, -0.10915, 0.005491],\n",
    "         [0,         0,         0,         0,  0.81725,        0],\n",
    "         [0,         0,     0.425,   0.81725,        0,  0.81725]]"
   ]
  },
  {
   "cell_type": "code",
   "execution_count": 5,
   "id": "091c6b99",
   "metadata": {},
   "outputs": [],
   "source": [
    "theta = [\n",
    "    0,\n",
    "    np.pi/6,\n",
    "    np.pi/4,\n",
    "    np.pi/3,\n",
    "    np.pi/2,\n",
    "    2*np.pi/3,    \n",
    "]\n",
    "\n",
    "thetad = [\n",
    "    0.2,\n",
    "    0.2,\n",
    "    0.2,\n",
    "    0.2,\n",
    "    0.2,\n",
    "    0.2,\n",
    "]\n",
    "\n",
    "thetadd = [\n",
    "    0.1,\n",
    "    0.1,\n",
    "    0.1,\n",
    "    0.1,\n",
    "    0.1,\n",
    "    0.1,    \n",
    "]\n",
    "\n",
    "g = [0,\n",
    "    0,\n",
    "    -9.81\n",
    "]\n",
    "\n",
    "Ftip = [\n",
    "    0.1,\n",
    "    0.1,\n",
    "    0.1,\n",
    "    0.1,\n",
    "    0.1,\n",
    "    0.1,    \n",
    "]"
   ]
  },
  {
   "cell_type": "code",
   "execution_count": 9,
   "id": "b6059dc0",
   "metadata": {},
   "outputs": [
    {
     "data": {
      "text/plain": [
       "[0.013, -41.148, -3.781, 0.032, 0.037, 0.103]"
      ]
     },
     "execution_count": 9,
     "metadata": {},
     "output_type": "execute_result"
    }
   ],
   "source": [
    "taulist = mr.InverseDynamics(theta, thetad, thetadd, g, Ftip, Mlist, Glist, Slist)\n",
    "taulist.round(3).tolist()"
   ]
  },
  {
   "cell_type": "code",
   "execution_count": null,
   "id": "5d14248a",
   "metadata": {},
   "outputs": [],
   "source": []
  }
 ],
 "metadata": {
  "kernelspec": {
   "display_name": "Python 3 (ipykernel)",
   "language": "python",
   "name": "python3"
  },
  "language_info": {
   "codemirror_mode": {
    "name": "ipython",
    "version": 3
   },
   "file_extension": ".py",
   "mimetype": "text/x-python",
   "name": "python",
   "nbconvert_exporter": "python",
   "pygments_lexer": "ipython3",
   "version": "3.10.7"
  }
 },
 "nbformat": 4,
 "nbformat_minor": 5
}
