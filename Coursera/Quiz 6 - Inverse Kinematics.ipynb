{
 "cells": [
  {
   "cell_type": "code",
   "execution_count": 1,
   "id": "604785b9",
   "metadata": {},
   "outputs": [],
   "source": [
    "import core as mr\n",
    "import numpy as np"
   ]
  },
  {
   "cell_type": "code",
   "execution_count": 2,
   "id": "5c5678ac",
   "metadata": {},
   "outputs": [
    {
     "name": "stdout",
     "output_type": "stream",
     "text": [
      "[[0, 0, 0], [0, 0, 0], [1, 1, 1], [0, 0, 0], [0, -1, -2], [0, 0, 0]]\n",
      "[0.7854, 0.94248, 1.0995599999999999]\n"
     ]
    }
   ],
   "source": [
    "Tsd = [\n",
    "    [-0.585, -0.811, 0, 0.076],\n",
    "    [0.811, -0.585, 0, 2.608],\n",
    "    [0, 0, 1, 0],\n",
    "    [0, 0, 0, 1]\n",
    "]\n",
    "\n",
    "Js = [\n",
    "    [0, 0, 0],\n",
    "    [0, 0, 0],\n",
    "    [1, 1, 1],\n",
    "    [0, 0, 0],\n",
    "    [0, -1, -2],\n",
    "    [0, 0, 0]\n",
    "]\n",
    "\n",
    "Jb = [\n",
    "    [0, 0, 0],\n",
    "    [0, 0, 0],\n",
    "    [1, 1, 1],\n",
    "    [0, 0, 0],\n",
    "    [3, 2, 1],\n",
    "    [0, 0, 0]\n",
    "]\n",
    "\n",
    "M = [\n",
    "    [1, 0, 0, 3],\n",
    "    [0, 1, 0, 0],\n",
    "    [0, 0, 1, 0],\n",
    "    [0, 0, 0, 0]\n",
    "]\n",
    "\n",
    "eomg = 0.001\n",
    "ev = 0.0001\n",
    "\n",
    "th = 0.7854\n",
    "theta_o = [th, 1.2*th, 1.4*th]\n",
    "\n",
    "S_list = np.matrix(Js).tolist()\n",
    "B_list = np.matrix(Jb).tolist()\n",
    "\n",
    "print(S_list)\n",
    "print(theta_o)"
   ]
  },
  {
   "cell_type": "code",
   "execution_count": 3,
   "id": "0bd3ea08",
   "metadata": {},
   "outputs": [
    {
     "name": "stdout",
     "output_type": "stream",
     "text": [
      "[-24.525  49.24  -22.519]\n",
      "False\n"
     ]
    }
   ],
   "source": [
    "[thetalist, success] = mr.IKinSpace(S_list, M, Tsd, theta_o, eomg, ev)\n",
    "print(thetalist.round(3))\n",
    "print(success)"
   ]
  },
  {
   "cell_type": "code",
   "execution_count": 4,
   "id": "4a6d0d2a",
   "metadata": {},
   "outputs": [
    {
     "name": "stdout",
     "output_type": "stream",
     "text": [
      "[0.925 0.586 0.684]\n",
      "True\n"
     ]
    }
   ],
   "source": [
    "[thetalist, success] = mr.IKinBody(B_list, M, Tsd, theta_o, eomg, ev)\n",
    "print(thetalist.round(3))\n",
    "print(success)"
   ]
  },
  {
   "cell_type": "code",
   "execution_count": null,
   "id": "6dab54f8",
   "metadata": {},
   "outputs": [],
   "source": []
  }
 ],
 "metadata": {
  "kernelspec": {
   "display_name": "Python 3 (ipykernel)",
   "language": "python",
   "name": "python3"
  },
  "language_info": {
   "codemirror_mode": {
    "name": "ipython",
    "version": 3
   },
   "file_extension": ".py",
   "mimetype": "text/x-python",
   "name": "python",
   "nbconvert_exporter": "python",
   "pygments_lexer": "ipython3",
   "version": "3.10.7"
  }
 },
 "nbformat": 4,
 "nbformat_minor": 5
}
