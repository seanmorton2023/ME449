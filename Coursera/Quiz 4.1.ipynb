{
 "cells": [
  {
   "cell_type": "code",
   "execution_count": 1,
   "id": "0df86999",
   "metadata": {},
   "outputs": [],
   "source": [
    "import core as mr\n",
    "import numpy as np"
   ]
  },
  {
   "cell_type": "code",
   "execution_count": 18,
   "id": "97a96910",
   "metadata": {},
   "outputs": [],
   "source": [
    "M = [\n",
    "    [1,0,0,3.732],\n",
    "    [0,1,0,0],\n",
    "    [0,0,1,2.732],\n",
    "    [0,0,0,1]\n",
    "]\n",
    "\n",
    "S_axes = [\n",
    "    [0,0,1,     0,    -1,    0],\n",
    "    [0,1,0,     0,     0,    1],\n",
    "    [0,1,0,     1,     0,2.732],\n",
    "    [0,1,0,-0.732,     0,3.732],\n",
    "    [0,0,0,     0,     0,    1],\n",
    "    [0,0,1,     0,-3.732,    0]\n",
    "] #where each axis is its own element in list\n",
    "\n",
    "B_axes = [\n",
    "    [0,0,1,    0,2.732,     0],\n",
    "    [0,1,0,2.732,    0,-2.732],\n",
    "    [0,1,0,3.732,    0,    -1],\n",
    "    [0,1,0,    2,    0,     0],\n",
    "    [0,0,0,    0,    0,     1],\n",
    "    [0,0,1,    0,    0,     0]\n",
    "] #where each axis is its own element in list\n",
    "\n",
    "#−π/2, π/2, π/3, −π/4, 1, π/6\n",
    "theta_array = [\n",
    "    -np.pi/2.0,\n",
    "    np.pi/2.0,\n",
    "    np.pi/3.0,\n",
    "    -np.pi/4.0,\n",
    "    1,\n",
    "    np.pi/6.0\n",
    "]"
   ]
  },
  {
   "cell_type": "code",
   "execution_count": 19,
   "id": "e888b143",
   "metadata": {},
   "outputs": [
    {
     "name": "stdout",
     "output_type": "stream",
     "text": [
      "S axis matrix:\n",
      "[[0.0, 0.0, 0.0, 0.0, 0.0, 0.0], [0.0, 1.0, 1.0, 1.0, 0.0, 0.0], [1.0, 0.0, 0.0, 0.0, 0.0, 1.0], [0.0, 0.0, 1.0, -0.732, 0.0, 0.0], [-1.0, 0.0, 0.0, 0.0, 0.0, -3.732], [0.0, 1.0, 2.732, 3.732, 1.0, 0.0]]\n",
      "\n",
      "B axis matrix:\n",
      "[[0.0, 0.0, 0.0, 0.0, 0.0, 0.0], [0.0, 1.0, 1.0, 1.0, 0.0, 0.0], [1.0, 0.0, 0.0, 0.0, 0.0, 1.0], [0.0, 2.732, 3.732, 2.0, 0.0, 0.0], [2.732, 0.0, 0.0, 0.0, 0.0, 0.0], [0.0, -2.732, -1.0, 0.0, 1.0, 0.0]]\n"
     ]
    }
   ],
   "source": [
    "#manipulate the screw axes so we have a matrix of screw axes,\n",
    "#each screw axis is a column\n",
    "print(\"S axis matrix:\")\n",
    "S_matrix = np.matrix(S_axes).T\n",
    "S_matrix = S_matrix.tolist()\n",
    "print(S_matrix)\n",
    "\n",
    "print(\"\\nB axis matrix:\")\n",
    "B_matrix = np.matrix(B_axes).T\n",
    "B_matrix = B_matrix.tolist()\n",
    "print(B_matrix)"
   ]
  },
  {
   "cell_type": "code",
   "execution_count": 20,
   "id": "fc3a368e",
   "metadata": {},
   "outputs": [
    {
     "name": "stdout",
     "output_type": "stream",
     "text": [
      "[[0.5, 0.866, 0.0, 1.0], [0.2241, -0.1294, -0.9659, -1.8978], [-0.8365, 0.483, -0.2588, -4.5084], [0.0, 0.0, 0.0, 1.0]]\n"
     ]
    }
   ],
   "source": [
    "# config1 = mr.FKinSpace(M, S_axes, theta_array).tolist()\n",
    "config1 = mr.FKinSpace(M, S_matrix, theta_array).round(4).tolist()\n",
    "print(config1)"
   ]
  },
  {
   "cell_type": "code",
   "execution_count": 21,
   "id": "47ae1e05",
   "metadata": {},
   "outputs": [
    {
     "name": "stdout",
     "output_type": "stream",
     "text": [
      "[[0.5, 0.866, 0.0, 1.0], [0.2241, -0.1294, -0.9659, -1.8978], [-0.8365, 0.483, -0.2588, -4.5084], [0.0, 0.0, 0.0, 1.0]]\n"
     ]
    }
   ],
   "source": [
    "# config2 = mr.FKinBody(M, B_axes, theta_array).tolist()\n",
    "config2 = mr.FKinBody(M, B_matrix, theta_array).round(4).tolist()\n",
    "print(config2)"
   ]
  },
  {
   "cell_type": "code",
   "execution_count": null,
   "id": "4172e614",
   "metadata": {},
   "outputs": [],
   "source": []
  }
 ],
 "metadata": {
  "kernelspec": {
   "display_name": "Python 3 (ipykernel)",
   "language": "python",
   "name": "python3"
  },
  "language_info": {
   "codemirror_mode": {
    "name": "ipython",
    "version": 3
   },
   "file_extension": ".py",
   "mimetype": "text/x-python",
   "name": "python",
   "nbconvert_exporter": "python",
   "pygments_lexer": "ipython3",
   "version": "3.10.7"
  }
 },
 "nbformat": 4,
 "nbformat_minor": 5
}
